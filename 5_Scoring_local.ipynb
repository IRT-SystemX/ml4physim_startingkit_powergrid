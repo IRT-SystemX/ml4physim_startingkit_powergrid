{
 "cells": [
  {
   "cell_type": "markdown",
   "metadata": {},
   "source": [
    "# Compute the global score"
   ]
  },
  {
   "cell_type": "markdown",
   "metadata": {},
   "source": [
    "The aim of this notebook is to demonstrate how to compute the global score to evaluate the performance for a given model (aka `AugmentedSimulator`). This notebook is composed of three main parts:\n",
    "\n",
    "- [Acceleration reference computation](#acceleration) we show how the acceleration factor is obtained wrt the reference simulator\n",
    "- [Score computation step-by-step](#step-by-step) we disentangle the score computation throughout a real example\n",
    "- [Automatic Score Computation for local submissions](#auto-score) we provide a function which computes the score from a trained model or from saved metrics\n",
    "\n",
    "For more information concerning the computation of the score, the readers could refer to [this file](Evaluation.md)."
   ]
  },
  {
   "cell_type": "markdown",
   "metadata": {},
   "source": [
    "#### Import required packages"
   ]
  },
  {
   "cell_type": "code",
   "execution_count": 169,
   "metadata": {},
   "outputs": [],
   "source": [
    "import os\n",
    "import math"
   ]
  },
  {
   "cell_type": "markdown",
   "metadata": {},
   "source": [
    "## Acceleration reference computation <a id=\"acceleration\"></a>\n",
    "\n",
    "As the acceleration of simulation is one of the most important criteria in this competition, in this section we try to explain with respect to which reference the acceleration will be computed.\n",
    "\n",
    "#### Using AC Power Flow simulator (LightSim2Grid)\n",
    "\n",
    "- The reference in this competition is the physical solver based on Newton Raphson optimisation which is implemented in  [LightSim2Grid](https://github.com/BDonnot/lightsim2grid) and called through [Grid2op](https://github.com/rte-france/Grid2Op) framework. It solves the power flow equations in AC power system. We first provide a function which return the corresponding computation time for an indicated number of simulated samples."
   ]
  },
  {
   "cell_type": "markdown",
   "metadata": {},
   "source": [
    "Get the AC solver time (used as the reference) with respect to which the acceleration rate is computed."
   ]
  },
  {
   "cell_type": "code",
   "execution_count": 170,
   "metadata": {},
   "outputs": [
    {
     "name": "stderr",
     "output_type": "stream",
     "text": [
      "100%|██████████| 1000/1000 [00:26<00:00, 37.69it/s]"
     ]
    },
    {
     "name": "stdout",
     "output_type": "stream",
     "text": [
      "Time required to solve one power flow:  0.0003269047848880291\n",
      "Time required to solve 100000 power flows:  32.69047848880291\n"
     ]
    },
    {
     "name": "stderr",
     "output_type": "stream",
     "text": [
      "\n"
     ]
    }
   ],
   "source": [
    "from lips.metrics.power_grid.compute_solver_time_grid2op import compute_solver_time_grid2op\n",
    "\n",
    "BENCH_CONFIG_PATH = os.path.join(\"configs\", \"benchmarks\", \"lips_idf_2023.ini\")\n",
    "grid2op_solver_time = compute_solver_time_grid2op(config_path=BENCH_CONFIG_PATH, benchmark_name=\"Benchmark_competition\", nb_samples=int(1e5))"
   ]
  },
  {
   "cell_type": "markdown",
   "metadata": {},
   "source": [
    "#### Using Security Analysis\n",
    "\n",
    "However, a more optimized way to compute the power flow for the risk assessment application is through the security analysis. It runs simulations on a grid state for every contingency of interest in terms of risk, more especially for every single line disconnection that could unexpectdly occur. It hence runs as many simulations as there are lines on the grid in a single computation. Compared to single powerflow computation, this is accelerated thanks to matrix decomposition and factorization that is only done once and reused all along the contingency simulations. \n",
    "\n",
    "This Security Analysis computation is used as a baseline for this risk assessment application of interest in this competition."
   ]
  },
  {
   "cell_type": "code",
   "execution_count": 39,
   "metadata": {},
   "outputs": [],
   "source": [
    "from lips.config import ConfigManager\n",
    "from lips.metrics.power_grid.compute_solver_time import compute_solver_time\n",
    "\n",
    "BENCH_CONFIG_PATH = os.path.join(\"configs\", \"benchmarks\", \"lips_idf_2023.ini\")\n",
    "config = ConfigManager(path=BENCH_CONFIG_PATH, section_name=\"Benchmark_competition\")\n",
    "\n",
    "sa_solver_time = compute_solver_time(nb_samples=int(1e5), config=config)"
   ]
  },
  {
   "cell_type": "code",
   "execution_count": 40,
   "metadata": {},
   "outputs": [
    {
     "data": {
      "text/plain": [
       "8.627058052987502"
      ]
     },
     "execution_count": 40,
     "metadata": {},
     "output_type": "execute_result"
    }
   ],
   "source": [
    "sa_solver_time"
   ]
  },
  {
   "cell_type": "code",
   "execution_count": 20,
   "metadata": {},
   "outputs": [
    {
     "name": "stdout",
     "output_type": "stream",
     "text": [
      "The acceleration obtained using Security Analysis is :  3.77 times\n"
     ]
    }
   ],
   "source": [
    "print(f\"The acceleration obtained using Security Analysis is :  {(grid2op_solver_time / sa_solver_time):.2f} times\")"
   ]
  },
  {
   "cell_type": "markdown",
   "metadata": {},
   "source": [
    "## Score computation step-by-step <a id='step-by-step'></a>\n",
    "Hereafter, we provide the score computation procedure for the submissions. We start by an example of metrics returned by a baseline approach on `lips_idf_2023` environment. "
   ]
  },
  {
   "cell_type": "markdown",
   "metadata": {},
   "source": [
    "For more information about the metrics, you can refer to the LIPS paper Appendix.\n",
    "\n",
    "We yet highlight the use of a specific metric: the MAPE90. As in risk assessment, we are interested to detect overloads on the lines, we only compute the MAPE on for currents on the last 10% quantile.\n",
    "\n",
    "Once overloads are detected, an operator still needs to picture the flows on this state. Hence we assess the active power on the almost complete distribution, except the very low values which are not very significant. Hence the use of MAPE10 in that case."
   ]
  },
  {
   "cell_type": "code",
   "execution_count": 244,
   "metadata": {},
   "outputs": [],
   "source": [
    "test_metrics = {\"ML\":{\"a_or\":0.013, # MAPE90 \n",
    "                      \"a_ex\":0.013, # MAPE90 \n",
    "                      \"p_or\":0.029, # MAPE10 \n",
    "                      \"p_ex\":0.029, # MAPE10 \n",
    "                      \"v_or\":1.11, # MAE\n",
    "                      \"v_ex\":1.11  # MAE\n",
    "                },\n",
    "                \"Physics\":{\n",
    "                      \"CURRENT_POS\": 0.2,\n",
    "                      \"VOLTAGE_POS\": 0.1,\n",
    "                      \"LOSS_POS\": 27.88,\n",
    "                      \"DISC_LINES\": 100.0,\n",
    "                      \"CHECK_LOSS\": 1.54,\n",
    "                      \"CHECK_GC\": 99.99,\n",
    "                      \"CHECK_LC\": 98.55,\n",
    "                      \"CHECK_JOULE_LAW\": 85.84                      \n",
    "                }\n",
    "               }\n",
    "\n",
    "test_ood_metrics = {\"ML\":{\"a_or\":0.024, # MAPE90 \n",
    "                          \"a_ex\":0.024, # MAPE90 \n",
    "                          \"p_or\":0.041, # MAPE10 \n",
    "                          \"p_ex\":0.040, # MAPE10 \n",
    "                          \"v_or\":2.28, # MAE\n",
    "                          \"v_ex\":2.07  # MAE\n",
    "                    },\n",
    "                    \"Physics\":{\n",
    "                          \"CURRENT_POS\": 0.4, # violation percentage (%)\n",
    "                          \"VOLTAGE_POS\": 0.1,\n",
    "                          \"LOSS_POS\": 30.88,\n",
    "                          \"DISC_LINES\": 100.0,\n",
    "                          \"CHECK_LOSS\": 4.63,\n",
    "                          \"CHECK_GC\": 99.99,\n",
    "                          \"CHECK_LC\": 98.70,\n",
    "                          \"CHECK_JOULE_LAW\": 88.48 \n",
    "                    }\n",
    "                   } \n",
    "\n",
    "speed_up = grid2op_solver_time / 2.74 # 2.74 is the inference time of a Neural Network based approach"
   ]
  },
  {
   "cell_type": "markdown",
   "metadata": {},
   "source": [
    "We define the acceptability thresholds. Each variable is associated with 2 thresholds used to determine whether the result are great, acceptable or unacceptable and whether the result should be maximized or minimized."
   ]
  },
  {
   "cell_type": "code",
   "execution_count": 245,
   "metadata": {},
   "outputs": [],
   "source": [
    "thresholds={\"a_or\":(0.02,0.05,\"min\"),\n",
    "            \"a_ex\":(0.02,0.05,\"min\"),\n",
    "            \"p_or\":(0.02,0.05,\"min\"),\n",
    "            \"p_ex\":(0.02,0.05,\"min\"),\n",
    "            \"v_or\":(0.2,0.5,\"min\"),\n",
    "            \"v_ex\":(0.2,0.5,\"min\"),\n",
    "            \"CURRENT_POS\":(1., 5.,\"min\"),\n",
    "            \"VOLTAGE_POS\":(1.,5.,\"min\"),\n",
    "            \"LOSS_POS\":(1.,5.,\"min\"),\n",
    "            \"DISC_LINES\":(1.,5.,\"min\"),\n",
    "            \"CHECK_LOSS\":(1.,5.,\"min\"),\n",
    "            \"CHECK_GC\":(0.05,0.10,\"min\"),\n",
    "            \"CHECK_LC\":(0.05,0.10,\"min\"),\n",
    "            \"CHECK_JOULE_LAW\":(1.,5.,\"min\")\n",
    "           }"
   ]
  },
  {
   "cell_type": "markdown",
   "metadata": {},
   "source": [
    "For instance, regarding the value obtained for the variable 'a_or'\n",
    "\n",
    "- if it is lower than 2%, the result is great\n",
    "- if it is greater than 2% but lower than 5%, the result is acceptable\n",
    "- if it is greater than 5%, the result is not acceptable\n",
    "\n",
    "For a physical criteria `CHECK_GC` (check global conservation):\n",
    "\n",
    "- if the violation is less than 5 percent, the result is acceptable\n",
    "- if it is greater than 5 percent but lower than 10 percent, the result is acceptable\n",
    "- if it is greater than 10 percent, the result is not acceptable"
   ]
  },
  {
   "cell_type": "markdown",
   "metadata": {},
   "source": [
    "We also define the configuration which are the coefficients considered for each category and subcategories."
   ]
  },
  {
   "cell_type": "code",
   "execution_count": 246,
   "metadata": {},
   "outputs": [],
   "source": [
    "configuration={\n",
    "    \"coefficients\":{\"test\":0.3, \"test_ood\":0.3, \"speed_up\":0.4},\n",
    "    \"test_ratio\":{\"ml\": 0.66, \"physics\":0.34},\n",
    "    \"test_ood_ratio\":{\"ml\": 0.66, \"physics\":0.34},\n",
    "    \"value_by_color\":{\"g\":2,\"o\":1,\"r\":0},\n",
    "    \"max_speed_ratio_allowed\":50\n",
    "}"
   ]
  },
  {
   "cell_type": "markdown",
   "metadata": {},
   "source": [
    "We evaluate the result accuracy performances for all variables. We denote by:\n",
    "\n",
    "- g, a great result\n",
    "- o, an acceptable result\n",
    "- r, a not acceptable result"
   ]
  },
  {
   "cell_type": "code",
   "execution_count": 247,
   "metadata": {},
   "outputs": [
    {
     "name": "stdout",
     "output_type": "stream",
     "text": [
      "{'ML': ['g', 'g', 'o', 'o', 'r', 'r'], 'Physics': ['g', 'g', 'r', 'r', 'o', 'r', 'r', 'r']}\n"
     ]
    }
   ],
   "source": [
    "results_test=dict()\n",
    "for subcategoryName, subcategoryVal in test_metrics.items():\n",
    "    results_test[subcategoryName]=[]\n",
    "    for variableName, variableError in subcategoryVal.items():\n",
    "        thresholdMin,thresholdMax,evalType=thresholds[variableName]\n",
    "        if evalType==\"min\":\n",
    "            if variableError<thresholdMin:\n",
    "                accuracyEval=\"g\"\n",
    "            elif thresholdMin<variableError<thresholdMax:\n",
    "                accuracyEval=\"o\"\n",
    "            else:\n",
    "                accuracyEval=\"r\"\n",
    "        elif evalType==\"max\":\n",
    "            if variableError<thresholdMin:\n",
    "                accuracyEval=\"r\"\n",
    "            elif thresholdMin<variableError<thresholdMax:\n",
    "                accuracyEval=\"o\"\n",
    "            else:\n",
    "                accuracyEval=\"g\"\n",
    "\n",
    "        results_test[subcategoryName].append(accuracyEval)\n",
    "    \n",
    "print(results_test)"
   ]
  },
  {
   "cell_type": "markdown",
   "metadata": {},
   "source": [
    "the same for OOD dataset"
   ]
  },
  {
   "cell_type": "code",
   "execution_count": 249,
   "metadata": {},
   "outputs": [
    {
     "name": "stdout",
     "output_type": "stream",
     "text": [
      "{'ML': ['o', 'o', 'o', 'o', 'r', 'r'], 'Physics': ['g', 'g', 'r', 'r', 'o', 'r', 'r', 'r']}\n"
     ]
    }
   ],
   "source": [
    "results_test_ood=dict()\n",
    "for subcategoryName, subcategoryVal in test_ood_metrics.items():\n",
    "    results_test_ood[subcategoryName]=[]\n",
    "    for variableName, variableError in subcategoryVal.items():\n",
    "        thresholdMin,thresholdMax,evalType=thresholds[variableName]\n",
    "        if evalType==\"min\":\n",
    "            if variableError<thresholdMin:\n",
    "                accuracyEval=\"g\"\n",
    "            elif thresholdMin<variableError<thresholdMax:\n",
    "                accuracyEval=\"o\"\n",
    "            else:\n",
    "                accuracyEval=\"r\"\n",
    "        elif evalType==\"max\":\n",
    "            if variableError<thresholdMin:\n",
    "                accuracyEval=\"r\"\n",
    "            elif thresholdMin<variableError<thresholdMax:\n",
    "                accuracyEval=\"o\"\n",
    "            else:\n",
    "                accuracyEval=\"g\"\n",
    "\n",
    "        results_test_ood[subcategoryName].append(accuracyEval)\n",
    "    \n",
    "print(results_test_ood)"
   ]
  },
  {
   "cell_type": "code",
   "execution_count": 263,
   "metadata": {},
   "outputs": [],
   "source": [
    "def quadratic_function(x, a, b, c, k):\n",
    "    if x == 1.:\n",
    "        return 0.\n",
    "    else:\n",
    "        return a*(x**2) + b*x + c + math.log10(k*x)\n",
    "\n",
    "def SpeedMetric(speedUp, speedMax):\n",
    "    a=0.01 # 0.01\n",
    "    b=0.5 #0.5\n",
    "    c=0.1 #0.1\n",
    "    k=9\n",
    "    res = quadratic_function(speedUp, a=a, b=b, c=c, k=k) / quadratic_function(speedMax, a=a, b=b, c=c, k=k)\n",
    "    return max(min(res, 1), 0)"
   ]
  },
  {
   "cell_type": "code",
   "execution_count": 251,
   "metadata": {},
   "outputs": [],
   "source": [
    "coefficients = configuration[\"coefficients\"]\n",
    "test_ratio = configuration[\"test_ratio\"]\n",
    "test_ood_ratio = configuration[\"test_ood_ratio\"]\n",
    "value_by_color = configuration[\"value_by_color\"]\n",
    "max_speed_ratio_allowed = configuration[\"max_speed_ratio_allowed\"]"
   ]
  },
  {
   "cell_type": "markdown",
   "metadata": {},
   "source": [
    "### Test dataset:"
   ]
  },
  {
   "cell_type": "markdown",
   "metadata": {},
   "source": [
    "- ML"
   ]
  },
  {
   "cell_type": "code",
   "execution_count": 252,
   "metadata": {},
   "outputs": [],
   "source": [
    "test_ml_subscore=0\n",
    "\n",
    "test_ml_res = sum([value_by_color[color] for color in results_test[\"ML\"]])\n",
    "test_ml_res = (test_ml_res * test_ratio[\"ml\"]) / (len(results_test[\"ML\"])*max(value_by_color.values()))\n",
    "test_ml_subscore += test_ml_res"
   ]
  },
  {
   "cell_type": "markdown",
   "metadata": {},
   "source": [
    "- Physics:"
   ]
  },
  {
   "cell_type": "code",
   "execution_count": 253,
   "metadata": {},
   "outputs": [],
   "source": [
    "test_physics_res = sum([value_by_color[color] for color in results_test[\"Physics\"]])\n",
    "test_physics_res = (test_physics_res*test_ratio[\"physics\"]) / (len(results_test[\"Physics\"])*max(value_by_color.values()))\n",
    "test_physics_subscore = test_physics_res"
   ]
  },
  {
   "cell_type": "code",
   "execution_count": 262,
   "metadata": {},
   "outputs": [
    {
     "name": "stdout",
     "output_type": "stream",
     "text": [
      "Test dataset subscore (ML + Physics) : 0.44\n"
     ]
    }
   ],
   "source": [
    "test_subscore = test_ml_subscore + test_physics_subscore\n",
    "print(f\"Test dataset subscore (ML + Physics) : {test_subscore:.2f}\")"
   ]
  },
  {
   "cell_type": "markdown",
   "metadata": {},
   "source": [
    "### Speed up"
   ]
  },
  {
   "cell_type": "code",
   "execution_count": 261,
   "metadata": {},
   "outputs": [
    {
     "name": "stdout",
     "output_type": "stream",
     "text": [
      "Speed-up score: 0.18\n"
     ]
    }
   ],
   "source": [
    "speedup_score = SpeedMetric(speedUp=speed_up,speedMax=max_speed_ratio_allowed)\n",
    "print(f\"Speed-up score: {speedup_score:.2f}\")"
   ]
  },
  {
   "cell_type": "markdown",
   "metadata": {},
   "source": [
    "### Test OOD"
   ]
  },
  {
   "cell_type": "markdown",
   "metadata": {},
   "source": [
    "- ML"
   ]
  },
  {
   "cell_type": "code",
   "execution_count": 256,
   "metadata": {},
   "outputs": [],
   "source": [
    "test_ood_ml_subscore=0\n",
    "\n",
    "test_ood_ml_res = sum([value_by_color[color] for color in results_test_ood[\"ML\"]])\n",
    "test_ood_ml_res = (test_ood_ml_res * test_ood_ratio[\"ml\"]) / (len(results_test_ood[\"ML\"])*max(value_by_color.values()))\n",
    "test_ood_ml_subscore += test_ood_ml_res"
   ]
  },
  {
   "cell_type": "markdown",
   "metadata": {},
   "source": [
    "- Physics"
   ]
  },
  {
   "cell_type": "code",
   "execution_count": 257,
   "metadata": {},
   "outputs": [],
   "source": [
    "test_ood_physics_res = sum([value_by_color[color] for color in results_test_ood[\"Physics\"]])\n",
    "test_ood_physics_res = (test_ood_physics_res*test_ood_ratio[\"physics\"]) / (len(results_test_ood[\"Physics\"])*max(value_by_color.values()))\n",
    "test_ood_physics_subscore = test_ood_physics_res"
   ]
  },
  {
   "cell_type": "code",
   "execution_count": 260,
   "metadata": {},
   "outputs": [
    {
     "name": "stdout",
     "output_type": "stream",
     "text": [
      "OOD dataset score (ML + Physics):  0.33\n"
     ]
    }
   ],
   "source": [
    "test_ood_subscore = test_ood_ml_subscore + test_ood_physics_subscore\n",
    "print(f\"OOD dataset score (ML + Physics):  {test_ood_subscore:.2f}\")"
   ]
  },
  {
   "cell_type": "markdown",
   "metadata": {},
   "source": [
    "- Global Score"
   ]
  },
  {
   "cell_type": "code",
   "execution_count": 259,
   "metadata": {},
   "outputs": [
    {
     "name": "stdout",
     "output_type": "stream",
     "text": [
      "30.093348207718172\n"
     ]
    }
   ],
   "source": [
    "globalScore=100*(coefficients[\"test\"]*test_subscore+coefficients[\"test_ood\"]*test_ood_subscore+coefficients[\"speed_up\"]*speedup_score)\n",
    "print(globalScore)"
   ]
  },
  {
   "cell_type": "markdown",
   "metadata": {},
   "source": [
    "## Automatic Score Computation for local submissions <a id='auto-score'></a>"
   ]
  },
  {
   "cell_type": "markdown",
   "metadata": {},
   "source": [
    "In this section, we use the scoring function (available under `utils.compute_score`) in two ways:  \n",
    "- to compute the score for already trained baseline models;\n",
    "- to compute the score on the basis of the saved evaluation results (dictionary)."
   ]
  },
  {
   "cell_type": "markdown",
   "metadata": {},
   "source": [
    "### Compute the score using an already trained model"
   ]
  },
  {
   "cell_type": "markdown",
   "metadata": {},
   "source": [
    "Evaluate an already trained baseline (a fully connected architecture) and get the corresponding score using `compute_score` function."
   ]
  },
  {
   "cell_type": "code",
   "execution_count": 7,
   "metadata": {},
   "outputs": [],
   "source": [
    "### Import required packages\n",
    "import os\n",
    "from lips.benchmark.powergridBenchmark import PowerGridBenchmark\n",
    "\n",
    "#Define the required paths\n",
    "BENCH_CONFIG_PATH = os.path.join(\"configs\", \"benchmarks\", \"lips_idf_2023.ini\")\n",
    "DATA_PATH = os.path.join(\"input_data_local\", \"lips_idf_2023\")\n",
    "TRAINED_MODELS = os.path.join(\"input_data_local\", \"trained_models\")\n",
    "LOG_PATH = \"logs.log\"\n",
    "\n",
    "benchmark_kwargs = {\"attr_x\": (\"prod_p\", \"prod_v\", \"load_p\", \"load_q\"),\n",
    "                    \"attr_y\": (\"a_or\", \"a_ex\", \"p_or\", \"p_ex\", \"v_or\", \"v_ex\"),\n",
    "                    \"attr_tau\": (\"line_status\", \"topo_vect\"),\n",
    "                    \"attr_physics\": None}\n",
    "\n",
    "benchmark = PowerGridBenchmark(benchmark_path=DATA_PATH,\n",
    "                               config_path=BENCH_CONFIG_PATH,\n",
    "                               benchmark_name=\"Benchmark_competition\",\n",
    "                               load_data_set=True, \n",
    "                               log_path=LOG_PATH,\n",
    "                               **benchmark_kwargs)"
   ]
  },
  {
   "cell_type": "code",
   "execution_count": 2,
   "metadata": {},
   "outputs": [],
   "source": [
    "import tensorflow as tf\n",
    "os.environ[\"CUDA_VISIBLE_DEVICES\"] = \"0\"\n",
    "\n",
    "memory_limit = 20000\n",
    "\n",
    "gpus = tf.config.experimental.list_physical_devices('GPU')\n",
    "if gpus:\n",
    "  try:\n",
    "    tf.config.experimental.set_virtual_device_configuration(\n",
    "        gpus[0],[tf.config.experimental.VirtualDeviceConfiguration(memory_limit=memory_limit)])\n",
    "  except RuntimeError as e:\n",
    "    print(e)"
   ]
  },
  {
   "cell_type": "code",
   "execution_count": null,
   "metadata": {},
   "outputs": [],
   "source": [
    "# load an already trained augmented simulator\n",
    "from lips.augmented_simulators.tensorflow_models import TfFullyConnected\n",
    "from lips.dataset.scaler import StandardScaler\n",
    "\n",
    "# Indicate the path required for corresponding augmented simulator parameters\n",
    "SIM_CONFIG_PATH = os.path.join(\"configs\", \"simulators\", \"tf_fc.ini\")\n",
    "\n",
    "tf_fc = TfFullyConnected(name=\"tf_fc\",\n",
    "                         bench_config_path=BENCH_CONFIG_PATH,\n",
    "                         bench_config_name=\"Benchmark_competition\",\n",
    "                         bench_kwargs=benchmark_kwargs,\n",
    "                         sim_config_path=SIM_CONFIG_PATH,\n",
    "                         sim_config_name=\"DEFAULT\",\n",
    "                         scaler=StandardScaler,\n",
    "                         log_path=LOG_PATH)\n",
    "\n",
    "LOAD_PATH = os.path.join(TRAINED_MODELS, \"lips_idf_2023\")\n",
    "tf_fc.restore(path=LOAD_PATH)"
   ]
  },
  {
   "cell_type": "code",
   "execution_count": null,
   "metadata": {},
   "outputs": [],
   "source": [
    "EVALUATION_PATH = os.path.join(\"input_data_local\", \"eval_results\", \"lips_idf_2023\")\n",
    "metrics = benchmark.evaluate_simulator(augmented_simulator=tf_fc,\n",
    "                                       eval_batch_size=128,\n",
    "                                       dataset=\"all\",\n",
    "                                       shuffle=False,\n",
    "                                       save_path=EVALUATION_PATH,\n",
    "                                       save_predictions=False\n",
    "                                      )"
   ]
  },
  {
   "cell_type": "code",
   "execution_count": 196,
   "metadata": {},
   "outputs": [],
   "source": [
    "# read the already saved results\n",
    "EVALUATION_PATH = os.path.join(\"input_data_local\", \"eval_results\", \"lips_idf_2023\", \"tf_fc_DEFAULT\")\n",
    "metrics_dict = dict()\n",
    "metrics_dict[\"test\"] = import_metrics(EVALUATION_PATH, \"test\")\n",
    "metrics_dict[\"test_ood_topo\"] = import_metrics(EVALUATION_PATH, \"test_ood_topo\")"
   ]
  },
  {
   "cell_type": "code",
   "execution_count": 174,
   "metadata": {},
   "outputs": [
    {
     "name": "stderr",
     "output_type": "stream",
     "text": [
      "100%|██████████| 1000/1000 [00:19<00:00, 50.50it/s]"
     ]
    },
    {
     "name": "stdout",
     "output_type": "stream",
     "text": [
      "Time required to solve one power flow:  0.0003298692740499973\n",
      "Time required to solve 100000 power flows:  32.98692740499973\n",
      "22.43482332440552\n"
     ]
    },
    {
     "name": "stderr",
     "output_type": "stream",
     "text": [
      "\n"
     ]
    }
   ],
   "source": [
    "from utils.compute_score import compute_global_score\n",
    "score = compute_global_score(metrics, benchmark.config)"
   ]
  },
  {
   "cell_type": "code",
   "execution_count": 163,
   "metadata": {},
   "outputs": [],
   "source": [
    "from utils.compute_score import configuration, reconstruct_metric_dict, discretize_results\n",
    "\n",
    "coefficients = configuration[\"coefficients\"]\n",
    "\n",
    "test_metrics = reconstruct_metric_dict(metrics, \"test\")\n",
    "test_ood_metrics = reconstruct_metric_dict(metrics, \"test_ood_topo\")\n",
    "\n",
    "test_results_disc = discretize_results(test_metrics)\n",
    "test_ood_results_disc = discretize_results(test_ood_metrics)"
   ]
  },
  {
   "cell_type": "code",
   "execution_count": 165,
   "metadata": {},
   "outputs": [
    {
     "name": "stdout",
     "output_type": "stream",
     "text": [
      "{'ML': ['o', 'o', 'r', 'r', 'o', 'o'], 'Physics': ['g', 'g', 'r', 'r', 'o', 'r', 'r', 'r']}\n",
      "Test dataset score:  0.097875\n"
     ]
    }
   ],
   "source": [
    "print(test_results_disc)\n",
    "test_score = ((4 / 12) *  0.66) * 0.3 + ((5/16) * 0.34) * 0.3\n",
    "print(\"Test dataset score: \", test_score)"
   ]
  },
  {
   "cell_type": "code",
   "execution_count": 167,
   "metadata": {},
   "outputs": [
    {
     "name": "stdout",
     "output_type": "stream",
     "text": [
      "{'ML': ['r', 'r', 'r', 'r', 'r', 'r'], 'Physics': ['g', 'g', 'r', 'r', 'o', 'r', 'r', 'r']}\n",
      "OOD dataset score:  0.031875\n"
     ]
    }
   ],
   "source": [
    "print(test_ood_results_disc)\n",
    "test_ood_score = ((0 / 12) *  0.66) * 0.3 + ((5/16) * 0.34) * 0.3\n",
    "print(\"OOD dataset score: \", test_ood_score)"
   ]
  },
  {
   "cell_type": "code",
   "execution_count": 171,
   "metadata": {},
   "outputs": [
    {
     "name": "stdout",
     "output_type": "stream",
     "text": [
      "The acceleration factor is:  15.453827451532758\n",
      "The speed-up score using the new metric is:  0.07965118789210594\n"
     ]
    }
   ],
   "source": [
    "from utils.compute_score import NewSpeedMetric\n",
    "\n",
    "speed_up = grid2op_solver_time / metrics[\"test\"][\"ML\"][\"TIME_INF\"]\n",
    "print(\"The acceleration factor is: \", speed_up)\n",
    "\n",
    "speedup = NewSpeedMetric(speed_up, 50)\n",
    "speedup_score = speedup * .34\n",
    "print(\"The speed-up score using the new metric is: \", speedup_score)"
   ]
  },
  {
   "cell_type": "code",
   "execution_count": 172,
   "metadata": {},
   "outputs": [
    {
     "data": {
      "text/plain": [
       "0.20940118789210593"
      ]
     },
     "execution_count": 172,
     "metadata": {},
     "output_type": "execute_result"
    }
   ],
   "source": [
    "test_score + test_ood_score + speedup_score"
   ]
  },
  {
   "cell_type": "markdown",
   "metadata": {},
   "source": [
    "### Compute the score using the saved evaluation results"
   ]
  },
  {
   "cell_type": "markdown",
   "metadata": {},
   "source": [
    "Read the evaluation results for the baseline architecture (LeapNet architecture in this case)."
   ]
  },
  {
   "cell_type": "code",
   "execution_count": 5,
   "metadata": {},
   "outputs": [],
   "source": [
    "import os\n",
    "import json\n",
    "\n",
    "def import_metrics(path, dataset):\n",
    "    path_to_results = os.path.join(path, dataset, \"eval_res.json\")\n",
    "    with open(path_to_results) as json_file:\n",
    "        metrics = json.load(json_file)\n",
    "    return metrics"
   ]
  },
  {
   "cell_type": "code",
   "execution_count": 8,
   "metadata": {},
   "outputs": [],
   "source": [
    "EVALUATION_PATH = os.path.join(\"input_data_local\", \"eval_results\", \"lips_idf_2023\", \"tf_leapnet_DEFAULT\")\n",
    "# EVALUATION_PATH = os.path.join(\"input_data_local\", \"eval_results\", \"lips_idf_2023\", \"tf_fc_DEFAULT\")\n",
    "metrics_dict = dict()\n",
    "metrics_dict[\"test\"] = import_metrics(EVALUATION_PATH, \"test\")\n",
    "metrics_dict[\"test_ood_topo\"] = import_metrics(EVALUATION_PATH, \"test_ood_topo\")"
   ]
  },
  {
   "cell_type": "code",
   "execution_count": 10,
   "metadata": {},
   "outputs": [
    {
     "data": {
      "text/plain": [
       "<module 'utils.compute_score' from '/home/milad.leyli-abadi/Github/ml4physim_startingkit_powergrid/utils/compute_score.py'>"
      ]
     },
     "execution_count": 10,
     "metadata": {},
     "output_type": "execute_result"
    }
   ],
   "source": [
    "import importlib\n",
    "import utils.compute_score\n",
    "importlib.reload(utils.compute_score)"
   ]
  },
  {
   "cell_type": "code",
   "execution_count": 11,
   "metadata": {},
   "outputs": [
    {
     "name": "stderr",
     "output_type": "stream",
     "text": [
      "100%|██████████| 1000/1000 [00:19<00:00, 50.61it/s]"
     ]
    },
    {
     "name": "stdout",
     "output_type": "stream",
     "text": [
      "Time required to solve one power flow:  0.0003266569934785366\n",
      "Time required to solve 100000 power flows:  32.66569934785366\n",
      "37.61814072348556\n"
     ]
    },
    {
     "name": "stderr",
     "output_type": "stream",
     "text": [
      "\n"
     ]
    }
   ],
   "source": [
    "from utils.compute_score import compute_global_score\n",
    "score = compute_global_score(metrics_dict, benchmark.config)"
   ]
  },
  {
   "cell_type": "code",
   "execution_count": 187,
   "metadata": {},
   "outputs": [],
   "source": [
    "from utils.compute_score import configuration, reconstruct_metric_dict, discretize_results\n",
    "\n",
    "coefficients = configuration[\"coefficients\"]\n",
    "\n",
    "test_metrics = reconstruct_metric_dict(metrics_dict, \"test\")\n",
    "test_ood_metrics = reconstruct_metric_dict(metrics_dict, \"test_ood_topo\")\n",
    "\n",
    "test_results_disc = discretize_results(test_metrics)\n",
    "test_ood_results_disc = discretize_results(test_ood_metrics)"
   ]
  },
  {
   "cell_type": "code",
   "execution_count": 188,
   "metadata": {},
   "outputs": [
    {
     "name": "stdout",
     "output_type": "stream",
     "text": [
      "{'ML': ['g', 'g', 'o', 'o', 'r', 'r'], 'Physics': ['g', 'g', 'r', 'r', 'o', 'r', 'r', 'r']}\n",
      "0.13087500000000002\n"
     ]
    }
   ],
   "source": [
    "print(test_results_disc)\n",
    "test_score = ((6 / 12) *  0.66) * 0.3 + ((5/16) * 0.34) * 0.3\n",
    "print(test_score)"
   ]
  },
  {
   "cell_type": "code",
   "execution_count": 189,
   "metadata": {},
   "outputs": [
    {
     "name": "stdout",
     "output_type": "stream",
     "text": [
      "{'ML': ['o', 'o', 'o', 'o', 'r', 'r'], 'Physics': ['g', 'g', 'r', 'r', 'o', 'r', 'r', 'r']}\n",
      "0.097875\n"
     ]
    }
   ],
   "source": [
    "print(test_ood_results_disc)\n",
    "test_ood_score = ((4 / 12) *  0.66) * 0.3 + ((5/16) * 0.34) * 0.3\n",
    "print(test_ood_score)"
   ]
  },
  {
   "cell_type": "code",
   "execution_count": 186,
   "metadata": {},
   "outputs": [
    {
     "name": "stdout",
     "output_type": "stream",
     "text": [
      "The acceleration factor is:  11.904075153382715\n",
      "The speed-up score using the new metric is:  0.061222348700048654\n"
     ]
    }
   ],
   "source": [
    "from utils.compute_score import NewSpeedMetric\n",
    "\n",
    "speed_up = grid2op_solver_time / metrics_dict[\"test\"][\"ML\"][\"TIME_INF\"]\n",
    "print(\"The acceleration factor is: \", speed_up)\n",
    "\n",
    "speedup = NewSpeedMetric(speed_up, 50)\n",
    "speedup_score = speedup * .34\n",
    "print(\"The speed-up score using the new metric is: \", speedup_score)"
   ]
  },
  {
   "cell_type": "markdown",
   "metadata": {},
   "source": [
    "## Compute the solver scores"
   ]
  },
  {
   "cell_type": "code",
   "execution_count": 3,
   "metadata": {},
   "outputs": [],
   "source": [
    "from utils.compute_score import compute_ml_subscore, compute_physics_subscore, SpeedMetric, configuration\n",
    "\n",
    "test_results_disc = {\"ML\": ['g','g','g','g','g','g'], \"Physics\": ['g','g','g','g','g','g','g','g']}\n",
    "test_ood_results_disc = {\"ML\": ['g','g','g','g','g','g'], \"Physics\": ['g','g','g','g','g','g','g','g']}\n",
    "coefficients = configuration[\"coefficients\"]\n",
    "max_speed_ratio_allowed = configuration[\"max_speed_ratio_allowed\"]\n",
    "\n",
    "test_ml_subscore = compute_ml_subscore(test_results_disc, key=\"test_ratio\")\n",
    "test_physics_subscore = compute_physics_subscore(test_results_disc, key=\"test_ratio\")\n",
    "test_subscore = test_ml_subscore + test_physics_subscore\n",
    "\n",
    "test_ood_ml_subscore = compute_ml_subscore(test_ood_results_disc, key=\"test_ood_ratio\")\n",
    "test_ood_physics_subscore = compute_physics_subscore(test_ood_results_disc, key=\"test_ood_ratio\")\n",
    "test_ood_subscore = test_ood_ml_subscore + test_ood_physics_subscore\n",
    "\n",
    "# speed_up = 1. # LighSim2grid\n",
    "speed_up = 3.77 # Security Analysis\n",
    "# speedup_score = SpeedMetric(speedUp=speed_up, speedMax=max_speed_ratio_allowed)\n",
    "speedup_score = SpeedMetric(speedUp=speed_up)\n",
    "\n",
    "globalScore = 100*(coefficients[\"test\"]*test_subscore+coefficients[\"test_ood\"]*test_ood_subscore+coefficients[\"speed_up\"]*speedup_score)"
   ]
  },
  {
   "cell_type": "code",
   "execution_count": 4,
   "metadata": {},
   "outputs": [
    {
     "data": {
      "text/plain": [
       "62.52458110780249"
      ]
     },
     "execution_count": 4,
     "metadata": {},
     "output_type": "execute_result"
    }
   ],
   "source": [
    "globalScore"
   ]
  },
  {
   "cell_type": "markdown",
   "metadata": {},
   "source": [
    "## Benchmark table"
   ]
  },
  {
   "cell_type": "markdown",
   "metadata": {},
   "source": [
    "![Benchmark table](img/Benchmark_table.png)"
   ]
  },
  {
   "cell_type": "code",
   "execution_count": 150,
   "metadata": {},
   "outputs": [
    {
     "name": "stdout",
     "output_type": "stream",
     "text": [
      "0.165\n",
      "0.066\n"
     ]
    }
   ],
   "source": [
    "# Fully Connected\n",
    "test_score = ((10 / 12) *  0.66) * 0.3 #+ ((5/16) * 0.34) * 0.3\n",
    "print(test_score)\n",
    "test_ood_score = ((4 / 12) *  0.66) * 0.3# + ((5/16) * 0.34) * 0.3\n",
    "print(test_ood_score)"
   ]
  },
  {
   "cell_type": "code",
   "execution_count": 153,
   "metadata": {},
   "outputs": [
    {
     "name": "stdout",
     "output_type": "stream",
     "text": [
      "0.132\n",
      "0.132\n"
     ]
    }
   ],
   "source": [
    "# Leapnet\n",
    "test_score = ((8 / 12) *  0.66) * 0.3 #+ ((5/16) * 0.34) * 0.3\n",
    "print(test_score)\n",
    "test_ood_score = ((8 / 12) *  0.66) * 0.3# + ((5/16) * 0.34) * 0.3\n",
    "print(test_ood_score)"
   ]
  },
  {
   "cell_type": "markdown",
   "metadata": {},
   "source": [
    "# Tests"
   ]
  },
  {
   "cell_type": "code",
   "execution_count": 1,
   "metadata": {},
   "outputs": [],
   "source": [
    "import matplotlib.pyplot as plt\n",
    "import numpy as np\n",
    "import math\n",
    "x = np.arange(0,50, 0.5)\n",
    "\n",
    "def sigmoid(x):\n",
    "    return 1 / 1+np.exp(x)\n",
    "def f(x):\n",
    "    return x^3 + 16\n",
    "\n",
    "def nonlinspace(start, stop, num):\n",
    "    linear = np.linspace(0, 1, num)\n",
    "    my_curvature = 1\n",
    "    curve = 1 - np.exp(-my_curvature*linear)\n",
    "    curve = curve/np.max(curve)   #  normalize between 0 and 1\n",
    "    curve  = curve*(stop - start-1) + start\n",
    "    return curve\n",
    "\n",
    "def exponential_model(x, a, k, alpha=1):\n",
    "    return a * np.exp(k * x + np.log(alpha))\n",
    "\n",
    "def exponential_model_custom(x, a, k, base):\n",
    "    return a * np.power(base, (k * x))\n",
    "\n",
    "def quadratic_func(x, a, b, c, k=1):\n",
    "    return a*(x**2) + b*x + c #+ np.log10(k*x)\n",
    "\n",
    "def new_exponential(x, a, base):\n",
    "    return a * np.power(base,x)\n",
    "\n",
    "def speedup_metric(x, max_speedup):\n",
    "    return max(min(x**2 / np.power(max_speedup,2),1), 0)\n",
    "\n",
    "def speedup_metric_current(speedUp, speedMax):\n",
    "    return max(min(math.log10(speedUp)/math.log10(speedMax),1),0)\n",
    "\n",
    "def speedup_metric_new(speedUp, speedMax):\n",
    "    return max(min(np.exp(speedUp)/np.exp(speedMax),1),0)\n"
   ]
  },
  {
   "cell_type": "code",
   "execution_count": 4,
   "metadata": {},
   "outputs": [],
   "source": [
    "x = np.arange(1, 50.5, 1)"
   ]
  },
  {
   "cell_type": "code",
   "execution_count": 176,
   "metadata": {},
   "outputs": [
    {
     "data": {
      "text/plain": [
       "array([0.011 , 0.0115, 0.012 , 0.0126, 0.0132, 0.0138, 0.0145, 0.0151,\n",
       "       0.0158, 0.0166, 0.0174, 0.0182, 0.0191, 0.02  , 0.0209, 0.0219,\n",
       "       0.0229, 0.024 , 0.0251, 0.0263, 0.0275, 0.0288, 0.0302, 0.0316,\n",
       "       0.0331, 0.0347, 0.0363, 0.038 , 0.0398, 0.0417, 0.0437, 0.0457,\n",
       "       0.0479, 0.0501, 0.0525, 0.055 , 0.0575, 0.0603, 0.0631, 0.0661,\n",
       "       0.0692, 0.0724, 0.0759, 0.0794, 0.0832, 0.0871, 0.0912, 0.0955,\n",
       "       0.1   , 0.1047, 0.1096, 0.1148, 0.1202, 0.1259, 0.1318, 0.138 ,\n",
       "       0.1445, 0.1514, 0.1585, 0.166 , 0.1738, 0.182 , 0.1905, 0.1995,\n",
       "       0.2089, 0.2188, 0.2291, 0.2399, 0.2512, 0.263 , 0.2754, 0.2884,\n",
       "       0.302 , 0.3162, 0.3311, 0.3467, 0.3631, 0.3802, 0.3981, 0.4169,\n",
       "       0.4365, 0.4571, 0.4786, 0.5012, 0.5248, 0.5495, 0.5754, 0.6026,\n",
       "       0.631 , 0.6607, 0.6918, 0.7244, 0.7586, 0.7943, 0.8318, 0.871 ,\n",
       "       0.912 , 0.955 , 1.    ])"
      ]
     },
     "execution_count": 176,
     "metadata": {},
     "output_type": "execute_result"
    }
   ],
   "source": [
    "np.round(exponential_model(x, a=1, k=0.09210345) / 100, 4)"
   ]
  },
  {
   "cell_type": "code",
   "execution_count": 79,
   "metadata": {},
   "outputs": [
    {
     "data": {
      "text/plain": [
       "0.0679"
      ]
     },
     "execution_count": 79,
     "metadata": {},
     "output_type": "execute_result"
    }
   ],
   "source": [
    "np.round(exponential_model(30, a=1, k=0.09210345) / 100, 4)"
   ]
  },
  {
   "cell_type": "code",
   "execution_count": 44,
   "metadata": {},
   "outputs": [],
   "source": [
    "import matplotlib.pyplot as plt"
   ]
  },
  {
   "cell_type": "code",
   "execution_count": 110,
   "metadata": {},
   "outputs": [
    {
     "data": {
      "text/plain": [
       "[<matplotlib.lines.Line2D at 0x7f26b93b1580>]"
      ]
     },
     "execution_count": 110,
     "metadata": {},
     "output_type": "execute_result"
    },
    {
     "data": {
      "image/png": "[encoded data removed]",
      "text/plain": [
       "<Figure size 640x480 with 1 Axes>"
      ]
     },
     "metadata": {},
     "output_type": "display_data"
    }
   ],
   "source": [
    "plt.plot(x, np.round(exponential_model(x, a=1, k=0.09210345, alpha=1) / 100, 4))"
   ]
  },
  {
   "cell_type": "code",
   "execution_count": 121,
   "metadata": {},
   "outputs": [
    {
     "data": {
      "text/plain": [
       "[<matplotlib.lines.Line2D at 0x7f26b8ebebe0>]"
      ]
     },
     "execution_count": 121,
     "metadata": {},
     "output_type": "execute_result"
    },
    {
     "data": {
      "image/png": "[encoded data removed]",
      "text/plain": [
       "<Figure size 640x480 with 1 Axes>"
      ]
     },
     "metadata": {},
     "output_type": "display_data"
    }
   ],
   "source": [
    "plt.plot(x, np.round(exponential_model(x, a=1, k=0.09210345, alpha=2) / 100, 4))"
   ]
  },
  {
   "cell_type": "code",
   "execution_count": 100,
   "metadata": {},
   "outputs": [
    {
     "data": {
      "text/plain": [
       "[<matplotlib.lines.Line2D at 0x7f26b9e9f160>]"
      ]
     },
     "execution_count": 100,
     "metadata": {},
     "output_type": "execute_result"
    },
    {
     "data": {
      "image/png": "[encoded data removed]",
      "text/plain": [
       "<Figure size 640x480 with 1 Axes>"
      ]
     },
     "metadata": {},
     "output_type": "display_data"
    }
   ],
   "source": [
    "plt.plot(x, np.round(exponential_model_custom(x, a=1, base=2, k=0.138) / 100, 4))"
   ]
  },
  {
   "cell_type": "code",
   "execution_count": 163,
   "metadata": {},
   "outputs": [],
   "source": [
    "res = [speedup_metric(item, max_speedup=50) for item in x]"
   ]
  },
  {
   "cell_type": "code",
   "execution_count": 164,
   "metadata": {},
   "outputs": [
    {
     "data": {
      "text/plain": [
       "[<matplotlib.lines.Line2D at 0x7f26b89e0310>]"
      ]
     },
     "execution_count": 164,
     "metadata": {},
     "output_type": "execute_result"
    },
    {
     "data": {
      "image/png": "[encoded data removed]",
      "text/plain": [
       "<Figure size 640x480 with 1 Axes>"
      ]
     },
     "metadata": {},
     "output_type": "display_data"
    }
   ],
   "source": [
    "plt.plot(x, res)"
   ]
  },
  {
   "cell_type": "code",
   "execution_count": 322,
   "metadata": {},
   "outputs": [],
   "source": [
    "res = [speedup_metric_current(speedUp=item, speedMax=50.) for item in x]"
   ]
  },
  {
   "cell_type": "code",
   "execution_count": 325,
   "metadata": {},
   "outputs": [
    {
     "data": {
      "text/plain": [
       "<matplotlib.collections.PathCollection at 0x7f26b252d520>"
      ]
     },
     "execution_count": 325,
     "metadata": {},
     "output_type": "execute_result"
    },
    {
     "data": {
      "image/png": "[encoded data removed]",
      "text/plain": [
       "<Figure size 640x480 with 1 Axes>"
      ]
     },
     "metadata": {},
     "output_type": "display_data"
    }
   ],
   "source": [
    "plt.scatter(x, res)"
   ]
  },
  {
   "cell_type": "code",
   "execution_count": 317,
   "metadata": {},
   "outputs": [
    {
     "name": "stdout",
     "output_type": "stream",
     "text": [
      "[0.02965208 0.04540524 0.05916917 0.07234256 0.08536376 0.09842801\n",
      " 0.11163947 0.1250603  0.1387306  0.15267776 0.16692131 0.18147565\n",
      " 0.19635176 0.21155812 0.2271015  0.24298733 0.25922007 0.27580339\n",
      " 0.29274039 0.31003368 0.32768548 0.34569772 0.36407205 0.38280993\n",
      " 0.40191263 0.42138127 0.44121685 0.46142025 0.48199227 0.50293361\n",
      " 0.52424493 0.5459268  0.56797975 0.59040426 0.61320077 0.63636968\n",
      " 0.65991136 0.68382615 0.70811436 0.73277627 0.75781217 0.78322229\n",
      " 0.80900686 0.83516611 0.86170022 0.8886094  0.9158938  0.9435536\n",
      " 0.97158895 1.        ]\n"
     ]
    },
    {
     "data": {
      "text/plain": [
       "<matplotlib.collections.PathCollection at 0x7f26b18e2af0>"
      ]
     },
     "execution_count": 317,
     "metadata": {},
     "output_type": "execute_result"
    },
    {
     "data": {
      "image/png": "[encoded data removed]",
      "text/plain": [
       "<Figure size 640x480 with 1 Axes>"
      ]
     },
     "metadata": {},
     "output_type": "display_data"
    }
   ],
   "source": [
    "a=0.01 # 0.01\n",
    "b=0.5 #0.5\n",
    "c=0.1 #0.1\n",
    "k=9\n",
    "print(quadratic_func(x, a=a, b=b, c=c, k=k) / quadratic_func(50, a=a, b=b, c=c, k=k))\n",
    "plt.scatter(x, quadratic_func(x, a=a, b=b, c=c, k=k) / quadratic_func(50, a=a, b=b, c=c, k=k))"
   ]
  },
  {
   "cell_type": "code",
   "execution_count": 10,
   "metadata": {},
   "outputs": [
    {
     "name": "stdout",
     "output_type": "stream",
     "text": [
      "[0.01217565 0.02275449 0.03373253 0.04510978 0.05688623 0.06906188\n",
      " 0.08163673 0.09461078 0.10798403 0.12175649 0.13592814 0.150499\n",
      " 0.16546906 0.18083832 0.19660679 0.21277445 0.22934132 0.24630739\n",
      " 0.26367265 0.28143713 0.2996008  0.31816367 0.33712575 0.35648703\n",
      " 0.3762475  0.39640719 0.41696607 0.43792415 0.45928144 0.48103792\n",
      " 0.50319361 0.5257485  0.54870259 0.57205589 0.59580838 0.61996008\n",
      " 0.64451098 0.66946108 0.69481038 0.72055888 0.74670659 0.77325349\n",
      " 0.8001996  0.82754491 0.85528942 0.88343313 0.91197605 0.94091816\n",
      " 0.97025948 1.        ]\n"
     ]
    },
    {
     "data": {
      "image/png": "[encoded data removed]",
      "text/plain": [
       "<Figure size 640x480 with 1 Axes>"
      ]
     },
     "metadata": {},
     "output_type": "display_data"
    }
   ],
   "source": [
    "a=0.01 # 0.01\n",
    "b=0.5 #0.5\n",
    "c=0.1 #0.1\n",
    "k=9\n",
    "print(quadratic_func(x, a=a, b=b, c=c, k=k) / quadratic_func(50, a=a, b=b, c=c, k=k))\n",
    "plt.scatter(x, quadratic_func(x, a=a, b=b, c=c, k=k) / quadratic_func(50, a=a, b=b, c=c, k=k))\n",
    "plt.xlabel(\"Speed_up\")\n",
    "plt.ylabel(\"Score\")\n",
    "plt.show()"
   ]
  },
  {
   "cell_type": "code",
   "execution_count": 152,
   "metadata": {},
   "outputs": [],
   "source": [
    "import numpy as np\n",
    "def sigmodal(x):\n",
    "    # return 1. / (1. + np.exp(-(x-a)))\n",
    "    #return 1. / (1+np.exp(((-0.10001)*x) + np.e**(1.00001)))\n",
    "    return 1. / (1+np.exp(-0.13*x + np.exp(0.6)))"
   ]
  },
  {
   "cell_type": "code",
   "execution_count": 153,
   "metadata": {},
   "outputs": [],
   "source": [
    "x = np.arange(1, 50, 1)"
   ]
  },
  {
   "cell_type": "code",
   "execution_count": 154,
   "metadata": {},
   "outputs": [
    {
     "data": {
      "text/plain": [
       "array([0.1554974 , 0.17334282, 0.19276877, 0.21380864, 0.23647221,\n",
       "       0.26074138, 0.28656646, 0.31386342, 0.34251223, 0.37235692,\n",
       "       0.40320735, 0.43484293, 0.46701826, 0.4994703 , 0.5319268 ,\n",
       "       0.56411537, 0.59577254, 0.62665219, 0.65653284, 0.68522328,\n",
       "       0.7125664 , 0.73844098, 0.76276182, 0.78547818, 0.80657097,\n",
       "       0.82604911, 0.84394531, 0.86031169, 0.87521542, 0.88873469,\n",
       "       0.90095502, 0.91196613, 0.92185927, 0.93072509, 0.93865194,\n",
       "       0.94572465, 0.95202363, 0.95762433, 0.9625969 , 0.96700607,\n",
       "       0.97091118, 0.97436634, 0.97742065, 0.98011845, 0.98249969,\n",
       "       0.9846002 , 0.98645207, 0.98808395, 0.98952135])"
      ]
     },
     "execution_count": 154,
     "metadata": {},
     "output_type": "execute_result"
    }
   ],
   "source": [
    "sigmodal(x)"
   ]
  },
  {
   "cell_type": "code",
   "execution_count": 155,
   "metadata": {},
   "outputs": [
    {
     "data": {
      "image/png": "[encoded data removed]",
      "text/plain": [
       "<Figure size 640x480 with 1 Axes>"
      ]
     },
     "metadata": {},
     "output_type": "display_data"
    }
   ],
   "source": [
    "import matplotlib.pyplot as plt\n",
    "plt.scatter(x, sigmodal(x))\n",
    "plt.xticks(np.arange(0,51,5))\n",
    "plt.yticks(np.arange(0, 1.1, 0.1))\n",
    "#plt.xlim([0, 50])\n",
    "plt.grid()\n"
   ]
  },
  {
   "cell_type": "code",
   "execution_count": 164,
   "metadata": {},
   "outputs": [],
   "source": [
    "def weibull(c,b,x):\n",
    "    a = c * ((-np.log(0.9)) ** (-1/b))\n",
    "    return 1. - np.exp(-(x / a)**b)"
   ]
  },
  {
   "cell_type": "code",
   "execution_count": 202,
   "metadata": {},
   "outputs": [
    {
     "data": {
      "text/plain": [
       "1.0"
      ]
     },
     "execution_count": 202,
     "metadata": {},
     "output_type": "execute_result"
    }
   ],
   "source": [
    "weibull(5, 1.7, 10000) #/ weibull(5, 1.7, 50)"
   ]
  },
  {
   "cell_type": "code",
   "execution_count": 194,
   "metadata": {},
   "outputs": [
    {
     "data": {
      "image/png": "[encoded data removed]",
      "text/plain": [
       "<Figure size 640x480 with 1 Axes>"
      ]
     },
     "metadata": {},
     "output_type": "display_data"
    }
   ],
   "source": [
    "import matplotlib.pyplot as plt\n",
    "plt.scatter(x, weibull(5, 1.7, x) / weibull(5, 1.7, 50))\n",
    "plt.xticks(np.arange(0,51,5))\n",
    "plt.yticks(np.arange(0, 1.1, 0.1))\n",
    "#plt.xlim([0, 50])\n",
    "plt.grid()"
   ]
  },
  {
   "cell_type": "code",
   "execution_count": 17,
   "metadata": {},
   "outputs": [
    {
     "data": {
      "text/plain": [
       "0.3687838138900499"
      ]
     },
     "execution_count": 17,
     "metadata": {},
     "output_type": "execute_result"
    }
   ],
   "source": [
    "import math\n",
    "c = 5\n",
    "b = 1.7\n",
    "a = c * ((-math.log(0.9)) ** (-1/1.7))\n",
    "1. - math.exp(-(11.9 / a)**b)"
   ]
  },
  {
   "cell_type": "code",
   "execution_count": 18,
   "metadata": {},
   "outputs": [
    {
     "data": {
      "text/plain": [
       "18.787343012482257"
      ]
     },
     "execution_count": 18,
     "metadata": {},
     "output_type": "execute_result"
    }
   ],
   "source": [
    "a"
   ]
  },
  {
   "cell_type": "code",
   "execution_count": 10,
   "metadata": {},
   "outputs": [
    {
     "name": "stdout",
     "output_type": "stream",
     "text": [
      "0.18000589951469234\n"
     ]
    },
    {
     "data": {
      "text/plain": [
       "0.07200235980587694"
      ]
     },
     "execution_count": 10,
     "metadata": {},
     "output_type": "execute_result"
    }
   ],
   "source": [
    "import math\n",
    "import numpy as np\n",
    "def nominator(x):\n",
    "    return 0.01 * x**2 + 0.5 * x + 0.1 + np.log10(9*x)\n",
    "\n",
    "def denominator(x=50):\n",
    "    return 0.01 * x**2 + 0.5 * x + 0.1 + np.log10(9*x)\n",
    "\n",
    "def speedup_score(x):\n",
    "    return nominator(x) / denominator(x=50)\n",
    "\n",
    "print(speedup_score(11.9))\n",
    "0.4 * speedup_score(11.9)"
   ]
  },
  {
   "cell_type": "code",
   "execution_count": 20,
   "metadata": {},
   "outputs": [
    {
     "data": {
      "text/plain": [
       "0.375"
      ]
     },
     "execution_count": 20,
     "metadata": {},
     "output_type": "execute_result"
    }
   ],
   "source": [
    "0.3*.44 + .3*.33 + .4*.36"
   ]
  },
  {
   "cell_type": "markdown",
   "metadata": {},
   "source": [
    "Padding and pooling"
   ]
  },
  {
   "cell_type": "code",
   "execution_count": 75,
   "metadata": {},
   "outputs": [],
   "source": [
    "from tensorflow import keras"
   ]
  },
  {
   "cell_type": "code",
   "execution_count": 82,
   "metadata": {},
   "outputs": [
    {
     "name": "stdout",
     "output_type": "stream",
     "text": [
      "tf.Tensor(\n",
      "[[[[3. ]\n",
      "   [4. ]\n",
      "   [4.5]]\n",
      "\n",
      "  [[6. ]\n",
      "   [7. ]\n",
      "   [7.5]]\n",
      "\n",
      "  [[7.5]\n",
      "   [8.5]\n",
      "   [9. ]]]], shape=(1, 3, 3, 1), dtype=float32)\n"
     ]
    }
   ],
   "source": [
    "x = np.array([[1., 2., 3.],\n",
    "              [4., 5., 6.],\n",
    "              [7., 8., 9.]])\n",
    "x = np.reshape(x, [1, 3, 3, 1])\n",
    "avg_pool_2d = keras.layers.AveragePooling2D(pool_size=(2, 2),\n",
    "   strides=(1, 1), padding=\"same\")\n",
    "print(avg_pool_2d(x))"
   ]
  },
  {
   "cell_type": "code",
   "execution_count": 81,
   "metadata": {},
   "outputs": [
    {
     "data": {
      "text/plain": [
       "array([[[[1.],\n",
       "         [2.],\n",
       "         [3.]],\n",
       "\n",
       "        [[4.],\n",
       "         [5.],\n",
       "         [6.]],\n",
       "\n",
       "        [[7.],\n",
       "         [8.],\n",
       "         [9.]]]])"
      ]
     },
     "execution_count": 81,
     "metadata": {},
     "output_type": "execute_result"
    }
   ],
   "source": [
    "x"
   ]
  }
 ],
 "metadata": {
  "kernelspec": {
   "display_name": "Python 3",
   "language": "python",
   "name": "python3"
  },
  "language_info": {
   "codemirror_mode": {
    "name": "ipython",
    "version": 3
   },
   "file_extension": ".py",
   "mimetype": "text/x-python",
   "name": "python",
   "nbconvert_exporter": "python",
   "pygments_lexer": "ipython3",
   "version": "3.8.1"
  },
  "toc": {
   "base_numbering": 1,
   "nav_menu": {},
   "number_sections": true,
   "sideBar": true,
   "skip_h1_title": false,
   "title_cell": "Table of Contents",
   "title_sidebar": "Contents",
   "toc_cell": false,
   "toc_position": {},
   "toc_section_display": true,
   "toc_window_display": false
  }
 },
 "nbformat": 4,
 "nbformat_minor": 2
}
