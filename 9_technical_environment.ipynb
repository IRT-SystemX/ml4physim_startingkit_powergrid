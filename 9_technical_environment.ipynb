{
 "cells": [
  {
   "cell_type": "markdown",
   "metadata": {},
   "source": [
    "# Technical environment "
   ]
  },
  {
   "cell_type": "markdown",
   "metadata": {},
   "source": [
    "The aim of this notebook is to summarize the submission pipeline and associated environment."
   ]
  },
  {
   "cell_type": "markdown",
   "metadata": {},
   "source": [
    "#### Codabench\n",
    "\n",
    "Codabench is an open source benchmark/competition management plateform. All submissions are processedthrough it. The codabench plateform is in charge of the submission lifecycle management (submission, validation, dispatch and results agregation), the execution of the submission being managed by our submission pipeline.\n",
    "\n",
    "##### Codabench architecture :\n",
    "\n",
    "![Alt text](img/codabench_architecture.png)\n",
    "\n",
    "Submission are made through Codabench IHM (cf notebook 7) before being dispatch to the first available worker through the queue manager.\n",
    "\n"
   ]
  },
  {
   "cell_type": "markdown",
   "metadata": {},
   "source": [
    "#### GPU workers - submission execution\n",
    "\n",
    "After the submission bundle is sent to the GPU worker, an execution container (runner) is instanciated. The content of the bundle is unzipped in the runner. The ingestion program is then executed and will generate a metrics.json file which is passed to the scoring program. The scores are then sent back to the codabench plateform. \n",
    "\n",
    "In the warm-up phase, it is possible to only submit pre-calculated metrics or pre-trained models. However in the final phase all model will need to be trained and evaluated through the plateform. \n",
    "\n",
    "![Alt text](img/processing.png)"
   ]
  },
  {
   "cell_type": "markdown",
   "metadata": {},
   "source": [
    "\n",
    "### Technical environnment of the runner\n",
    "\n",
    "\n",
    "The runner consist of a docker container, this insure a self contained running environnment and consistency accross the servers used to run submissions. \n",
    "It is based on a pytorch image : `pytorch/pytorch:2.0.1-cuda11.7-cudnn8-devel` running `python 3.8` in addition `tensorflow 2.8` is installed.\n",
    "\n",
    "Currently the following packages are also installed :\n",
    "- \"grid2op==1.9.8\",\n",
    "- \"pybind11==2.8.1\",\n",
    "- \"lightsim2grid==0.8.1\",\n",
    "- \"leap-net==0.0.5\",\n",
    "- \"protobuf==3.20.2\",\n",
    "- \"pandapower==2.8.0\",\n",
    "- \"pandas==1.5.3\",\n",
    "- \"jupyter\",\n",
    "- \"tensorflow==2.8.1\",\n",
    "- \"torch==2.0.1\",\n",
    "- \"imageio==2.34.0\",\n",
    "- \"plotly==5.20.0\"\n",
    "- \"numpy==1.25.2\",\n",
    "- \"scikit_learn\",\n",
    "- \"tqdm\",\n",
    "- \"matplotlib\",\n",
    "- \"scipy==1.11.4\",\n",
    "- \"six\",\n",
    "- \"pathlib\",\n",
    "- \"numba\",\n",
    "\n",
    "In case a participant would like to have access to another python package during the competition, a request can be submitted to the organizers. "
   ]
  }
 ],
 "metadata": {
  "kernelspec": {
   "display_name": "Python 3 (ipykernel)",
   "language": "python",
   "name": "python3"
  },
  "language_info": {
   "codemirror_mode": {
    "name": "ipython",
    "version": 3
   },
   "file_extension": ".py",
   "mimetype": "text/x-python",
   "name": "python",
   "nbconvert_exporter": "python",
   "pygments_lexer": "ipython3",
   "version": "3.8.10"
  }
 },
 "nbformat": 4,
 "nbformat_minor": 4
}
