{
 "cells": [
  {
   "cell_type": "markdown",
   "metadata": {},
   "source": [
    "# How to create a submission in codabench"
   ]
  },
  {
   "cell_type": "markdown",
   "metadata": {},
   "source": [
    "The aim of this notebook is to show how to create a submissionby presenting necessary and optionnal components. This Notebook presents the composition of a submission folder. For submission examples see notebook [7_submission_examples](https://github.com/IRT-SystemX/ml4physim_startingkit_powergrid/blob/main/7_submission_examples.ipynb) and related directory [submission_examples](https://github.com/IRT-SystemX/ml4physim_startingkit_powergrid/tree/main/submission_examples)."
   ]
  },
  {
   "cell_type": "markdown",
   "metadata": {},
   "source": [
    "The provided submission examples show how to configure a submission for the following configurations:\n",
    "\n",
    "- Simple submission using pre-implemented functions\n",
    "- Submission with a custom model\n",
    "- Submission with a custom scaler\n",
    "- Submission for a pre-trained model\n",
    "- Submission for scoring only\n",
    "\n",
    "\n",
    "**NB**: in the final phase of the competition, submission will always be re-trained to insure fairness.\n",
    "\n",
    "**NB**: implementation of tensorflow is being prepared, currently the submission process only accept pytorch models.\n",
    "\n",
    "\n",
    "\n",
    "We provide also some information on the technical environment (see notebook `9_technical environment`)."
   ]
  },
  {
   "cell_type": "markdown",
   "metadata": {},
   "source": [
    "## Composition\n",
    "A submission should contain a set of mendatory and optional files depending on the submission type.\n",
    "\n",
    "**Mendatory files for all submissions**:\n",
    "- parameters.json (mandatory): file containing all the necessary parameters to configure a submission\n",
    "- config.ini: configuration file for the augmented simulator (which sets the hyper-parameters and implement the model)\n",
    "\n",
    "**Optional files**:\n",
    "- augmented_simulator.py : file containing an implementation of a custom augmented simulator (which implement the model) that will be evaluated\n",
    "- my_scaler.py : file containing the implementation of a custom scaler\n",
    "- json_metrics.json : file containing pre-calculated results for which only the scores are evaluated\n",
    "\n",
    "*There is also the possibility to add a folder for a pre-trained model:*\n",
    "- trained_model : will contains the pre-trained model saved through an implementation of the \"save\" function\n",
    "\n",
    "**NB.** In notebook 7, we provide examples for each of possible configurations."
   ]
  },
  {
   "cell_type": "markdown",
   "metadata": {},
   "source": [
    "## Submission\n",
    "Submission in codabench will be made through the \"My Submissions\" tab. A zip containing the files associated with the submission is uploaded.\n",
    "**Be careful to only compress the file and not the folder containing the file**.\n",
    "\n",
    "![Benchmark table](img/Submission.png)"
   ]
  },
  {
   "cell_type": "markdown",
   "metadata": {},
   "source": [
    "## Files content"
   ]
  },
  {
   "cell_type": "markdown",
   "metadata": {},
   "source": [
    "### parameters.json\n",
    "\n",
    "This file is used to configure the submission. It indicates to the server which type of submission is being run (training and evaluation, evaluation only using a trained model, scoring only) and how to configure it. \n",
    "\n",
    "```json\n",
    "{\n",
    "  \"evaluateonly\": false, // whether to only evaluate an already trained model\n",
    "  \"scoringonly\": false, // to obtain only score from provided metrics \n",
    "  \"simulator_config\": {\n",
    "    \"simulator_type\": \"simple_torch\", // The simulator type (simple or custom)\n",
    "    \"simulator_file\": \"simulator_file\", // simulator file containing the a custom model\n",
    "    \"name\": \"Optional_name\", // a name for the simulator\n",
    "    \"model_type\": \"fully_connected\", // Module including the simualor class\n",
    "    \"model\": \"TorchFullyConnected\", // The simulator class\n",
    "    \"scaler_type\": \"simple\", // the scaler type (simple or custom)\n",
    "    \"scaler_file\": \"scaler_file\", // a file containing a custom scaler class\n",
    "    \"scaler_module\": \"standard_scaler\", // module containing the scaler class\n",
    "    \"scaler\": \"StandardScaler\", // the scaler class\n",
    "    \"config_name\": \"DEFAULT\", // section name in config.ini file\n",
    "    \"seed\": 42,\n",
    "  },\n",
    "  \"simulator_extra_parameters\": {}, // simulator parameters to be set on-the-fly\n",
    "  \"training_config\": { // training hyper parameters\n",
    "    \"epochs\": 1\n",
    "  }\n",
    "}\n",
    "```"
   ]
  },
  {
   "cell_type": "markdown",
   "metadata": {},
   "source": [
    "General parameters:\n",
    "\n",
    "- `evaluateonly` : set to true if training was already done and the trained model is provided in the `trained_model` folder. \n",
    "- `scoringonly` : set to true if training and evaluation was already done and a `results.json` file is provided.\n",
    "\n",
    "simulator_config\n",
    "\n",
    "This object is used to indicate the configuration of the augmented simulator :\n",
    "- `simulator_type`: string indicates the type of model being provided : `simple_torch`, `custom_torch` (LIPS model provided in simulator_file), `simple_tf`, `custom` (model provided in simulator_file)\n",
    "- `simulator_file`: File in which the custom model can be found (at the root of the folder) **without the '.py'**\n",
    "- `name`: Name of the simulator\n",
    "- `model`: Model name, either of the implementation in `simulator_file.py`or of an available model in LIPS\n",
    "- `model_type`: Used for model already implemented in LIPS for loading  \n",
    "- `scaler_type`: string indicates the type of model being provided : `simple`, `custom`, `None` (note, for a custom simulator implementation the scaler need to be implemented in the model, no scaler is passed)\n",
    "- `scaler_file`: File in which the custom scaler can be found (at the root of the folder) **without the '.py'**\n",
    "- `scaler_class`: Used for scaler already implemented in LIPS for loading\n",
    "- `scaler`: Name of the scaler to be loaded either from LIPS or `scaler_file`\n",
    "- `config_name`: Name of the configuration to be used from `config.ini`\n",
    "\n",
    "simulator_extra_parameters\n",
    "- `simulator_extra_parameters`: An object containing custom input parameters for the model, it will be passed to the model. \n",
    "\n",
    "training_config\n",
    "- `training_config`: An object containing input parameters for the training phase, it will be passed when the `train` function is called. \n"
   ]
  },
  {
   "cell_type": "markdown",
   "metadata": {},
   "source": [
    "### config.ini\n",
    "\n",
    "Configuration file for the model, see `4_How_to_contribute`, the section defined by `config_name` will be used."
   ]
  },
  {
   "cell_type": "markdown",
   "metadata": {},
   "source": [
    "### my_augmented_simulator.py\n",
    "\n",
    "This file is used to implement a custom model. This model needs to be runnable by the ingestion process. Notebook 7 presents example for reproducing the 2nd example from `4_How_to_contribute`. \n",
    "A custom model will need to implement the following function in order to be runnable in the ingestion process :\n",
    "- __init__(self,benchmark,**kwargs)\n",
    "- train(self,train_dataset, save_path=None)\n",
    "- predict(self,dataset,**kwargs)"
   ]
  },
  {
   "cell_type": "markdown",
   "metadata": {},
   "source": [
    "### my_scaler.py\n",
    "\n",
    "This file is used to implement a custom scaler. The example provided show how to use it for recreating an already implemented scaler (used in `4_How_to_contribute`). "
   ]
  },
  {
   "cell_type": "markdown",
   "metadata": {},
   "source": [
    "### json_metrics.json\n",
    "\n",
    "Used in combination with `scoringonly`: true, no training or evaluation will be run, the file will be send directly for scoring (only available during the warmup phase)"
   ]
  },
  {
   "cell_type": "markdown",
   "metadata": {},
   "source": [
    "### trained_model\n",
    "\n",
    "Used in combination with `evaluateonly`: true, contains a saved trained model (using the save function from the simulator). In this case, training is skipped and the saved model loaded."
   ]
  }
 ],
 "metadata": {
  "kernelspec": {
   "display_name": "Python 3 (ipykernel)",
   "language": "python",
   "name": "python3"
  },
  "language_info": {
   "codemirror_mode": {
    "name": "ipython",
    "version": 3
   },
   "file_extension": ".py",
   "mimetype": "text/x-python",
   "name": "python",
   "nbconvert_exporter": "python",
   "pygments_lexer": "ipython3",
   "version": "3.8.10"
  }
 },
 "nbformat": 4,
 "nbformat_minor": 4
}
