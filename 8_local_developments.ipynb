{
 "cells": [
  {
   "cell_type": "markdown",
   "metadata": {},
   "source": [
    "# Locally test submissions"
   ]
  },
  {
   "cell_type": "markdown",
   "metadata": {},
   "source": [
    "In order to prepare and test submission locally a docker environment is provided that mimic the environment used to run submissions on the competition servers.\n",
    "All scripts are available in the \"local_env\" folder of this starting kit. "
   ]
  },
  {
   "cell_type": "markdown",
   "metadata": {
    "vscode": {
     "languageId": "plaintext"
    }
   },
   "source": [
    "## Prepare the local test environment\n",
    "\n",
    "*The scrips are provided for linux with docker already installed*\n",
    "\n",
    "In order to prepare the environment the **\"local_env\"** folder need to be copied in the location desired and data downloaded through the **download_data.sh** script.\n",
    "This is composed of 4 folders that are used by the docker to ingest (get access to) the submission, running scripts and to output the results:\n",
    "- **data** : Folder used to store all the data provided for the competition. The data are downloaded through the **download_data.sh** script\n",
    "- **ingested_program** : Folder in which the submission need to be placed in order to be accessed by the docker. *The submission should not be zipped or in a subfolder*\n",
    "- **output** : Folder used to store the results of the execution\n",
    "- **program** : Folder containing the scripts to be executed by the docker (typically ingestion and scoring)\n",
    "\n",
    "A serie of scripts are also provided to simplify the use of the test environment:\n",
    "*At the moment only and interactive use and the reproduce_baseline scripts are available, new scripts for running a full submission and other examples will be provided at a later point*\n",
    "\n",
    "- **download_data.sh** : Download all the necessary data for the competition\n",
    "- **launch_interactive.sh** : Launch the docker in an interactive mode directly in a shell\n",
    "- **reproduce_baseline.sh** : Example reproducing the baseline as described in the notebook 3\n"
   ]
  }
 ],
 "metadata": {
  "language_info": {
   "name": "python"
  }
 },
 "nbformat": 4,
 "nbformat_minor": 2
}
