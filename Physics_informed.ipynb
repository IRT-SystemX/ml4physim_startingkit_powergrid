{
 "cells": [
  {
   "cell_type": "markdown",
   "metadata": {},
   "source": [
    "# Physics Informed Neural Networks\n",
    "\n",
    "This notebook provides a set of utilities allowing to compute the power flow under the physics informed graph neural network. We start by explaining the theory behind the DC power flow and how it can be used to model the power grid with a Graph Neural Networks (GNN). \n",
    "\n",
    "<span style=\"color:red\">It is important to notice that the dataset used for competition are generated using AC solver and the solution should be based on AC power flow equations. This notebook is only for illustration to show how physics informed GNN could be used to model a simple power grid.</span>\n",
    "\n",
    "More details concerning the power flow equations could be found in [this article](https://home.engineering.iastate.edu/~jdm/ee458_2011/PowerFlowEquations.pdf)."
   ]
  },
  {
   "cell_type": "markdown",
   "metadata": {},
   "source": [
    "#### The DC Power flow\n",
    "Let's study the real power flow expression which could be obtained at a bus $k$:\n",
    "\n",
    "$P_k = \\sum_{j\\in N(k), j \\neq k} B_{kj}(\\theta_k - \\theta_j)$\n",
    "\n",
    "where $B_{kj}$ corresponds to real part of the admittance matrix element connecting nodes $k$ and $j$ (the imaginary part in DC power flow is zero).\n",
    "\n",
    "However, we require to compute the power flows on the lines (this is usually the information needed by operational and planning engineers as they study the power system).\n",
    "\n",
    "$P_{kj} = B_{kj}(\\theta_k - \\theta_j)$\n",
    "\n",
    "This operation could be generalized to DC power flow computation. We assume that we are given the network with the following information:\n",
    "- total number of buses is $N$, tital number of branches is $M$;\n",
    "- Bus number 1 identified as the reference;\n",
    "- Real power injections at all buses except bus 1;\n",
    "- Network topology;\n",
    "- Admittances for all branches.\n",
    "\n",
    "The DC power flow equations are given in matrix form as: \n",
    "\n",
    "$P = B^\\prime\\theta$ where:\n",
    "- $\\underline{P}$ is the vector of nodal injections for buses $2, ..., N$\n",
    "- $\\underline{\\theta}$ is the vector of nodal phase angles for buses $2, ..., N$\n",
    "- $\\underline{B^\\prime}$ is a specific form of admittance matrix which requires some explainations concerning its construction: \n",
    "    1. Remove the imaginary part `j` from admittance matrix (Y-bus)\n",
    "    2. Replace the diagonal element $\\underline{B^\\prime}_{kk}$ with the sum of non-diagonal elements in row $k$.\n",
    "    3. Multiply all off-diagonals by $-1$.\n",
    "    4. Remove row 1 and column 1.\n",
    "\n",
    "Although the above mentioned equation provides the ability to compute the angles, it does not provide the line flows. A systematic method of computing the line flows is:\n",
    "\n",
    "$P_B = (D \\times A) \\times \\theta$\n",
    "\n",
    "where:\n",
    "- $P_B$ is the vector of branch flows. It has dimension of $M \\times 1$.\n",
    "- $\\theta$ is (as before) the vector of nodal phase angles for buses $2, ..., N$.\n",
    "- $D$ is an $M \\times M$ matrix have non-diagonal elements of zeros; the diagonal element in position row $k$, column $k$ contains the negative of the susceptance of the $k^{th}$ branch.\n",
    "- $A$ is the $M \\times (N-1)$ node-arc incidence matrix. It is also called adjacency matrix, or the connection matrix. \n",
    "    - Element (k,j) of $A$ is 1 if the $k^{th}$ branch begins at node $j$, -1 if the $k^{th}$ branch terminates at node $j$, and 0 otherwise.\n",
    "    - Note that this matrix has only $N-1$ columns. We do not form a column with the reference bus, in order to conform to the vector $\\theta$ which is of dimension $(N-1) \\times 1$.\n",
    "\n",
    "Various functions provided in `graph_utils.py` allows allow to get the phase angles $\\theta$ at bus level and compute the branch power flows from phase angles ()`get_active_power`)."
   ]
  },
  {
   "cell_type": "markdown",
   "metadata": {},
   "source": [
    "### Prerequisites\n",
    "To be able to use this notebook and the corresponding functions, you should install the `torch-geometric` package"
   ]
  },
  {
   "cell_type": "code",
   "execution_count": null,
   "metadata": {},
   "outputs": [],
   "source": [
    "!pip install pytorch-geometric"
   ]
  },
  {
   "cell_type": "code",
   "execution_count": null,
   "metadata": {
    "metadata": {}
   },
   "outputs": [],
   "source": [
    "import matplotlib.pyplot as plt\n",
    "import torch\n",
    "from lips.benchmark.powergridBenchmark import PowerGridBenchmark\n",
    "from utils.graph_utils_generic import prepare_dataset"
   ]
  },
  {
   "cell_type": "code",
   "execution_count": null,
   "metadata": {
    "metadata": {}
   },
   "outputs": [],
   "source": [
    "# Use some required pathes\n",
    "import pathlib\n",
    "DATA_PATH = pathlib.Path().resolve() / \"input_data_local\" / \"lips_case14_sandbox\"\n",
    "BENCH_CONFIG_PATH = pathlib.Path().resolve() / \"configs\" / \"benchmarks\" / \"lips_case14_sandbox.ini\""
   ]
  },
  {
   "cell_type": "markdown",
   "metadata": {},
   "source": [
    "Download the dataset, if it has not been already done. The dataset used for the purpose of this notebook is generated using DC approximation solver and is only for illustration purpose."
   ]
  },
  {
   "cell_type": "code",
   "execution_count": null,
   "metadata": {
    "metadata": {}
   },
   "outputs": [],
   "source": [
    "## Download the dataset through the dedicated lips function\n",
    "from lips.dataset.powergridDataSet import downloadPowergridDataset\n",
    "\n",
    "downloadPowergridDataset(\"input_data_local\", \"Benchmark_DC\")"
   ]
  },
  {
   "cell_type": "markdown",
   "metadata": {},
   "source": [
    "Load the benchmark. Here, we select a benchmark (`Benchmark_DC`) where the data are generated using DC (Direct Current) approximation solver. It is only for illustration purpose and the participants should use the competition benchmark and dataset."
   ]
  },
  {
   "cell_type": "code",
   "execution_count": null,
   "metadata": {
    "metadata": {}
   },
   "outputs": [],
   "source": [
    "benchmark = PowerGridBenchmark(benchmark_name=\"Benchmark_DC\",\n",
    "                               benchmark_path=DATA_PATH,\n",
    "                               load_data_set=True,\n",
    "                               log_path=None,\n",
    "                               config_path=BENCH_CONFIG_PATH,\n",
    "                              )"
   ]
  },
  {
   "cell_type": "code",
   "execution_count": null,
   "metadata": {
    "metadata": {}
   },
   "outputs": [],
   "source": [
    "# Verify the dataset sizes\n",
    "print(benchmark.train_dataset.size)\n",
    "print(benchmark.val_dataset.size)\n",
    "print(benchmark._test_dataset.size)\n",
    "print(benchmark._test_ood_topo_dataset.size)"
   ]
  },
  {
   "cell_type": "markdown",
   "metadata": {},
   "source": [
    "### Prepare the dataset\n",
    "\n",
    "In order to use a Physics Informed Graph Neural Network, the dataset should be prepared and structured correctly. We provide a set of functions in `utils/graph_utils.py` which help to structure the data as graph and to create corresponding data loaders. This is based on pytorch geometric dependence which should be installed to be able to use the following commands. \n",
    "\n",
    "To install pytorch geometric library, you could use following command.\n",
    "```command\n",
    "! pip install torch-geometric\n",
    "```\n",
    "\n",
    "By calling the `prepare_dataset` function, a set of functions will be called automatically to create the final data loaders for each of `train`, `validation`, `test` and `test_ood` datasets."
   ]
  },
  {
   "cell_type": "code",
   "execution_count": null,
   "metadata": {
    "metadata": {}
   },
   "outputs": [],
   "source": [
    "device = torch.device(\"cpu\") # or \"cuda:0\" if you have any GPU\n",
    "train_loader, val_loader, test_loader, test_ood_loader = prepare_dataset(benchmark=benchmark, batch_size=512, device=device)"
   ]
  },
  {
   "cell_type": "markdown",
   "metadata": {},
   "source": [
    "Lets have a closer look at a batch of data:"
   ]
  },
  {
   "cell_type": "code",
   "execution_count": null,
   "metadata": {
    "metadata": {}
   },
   "outputs": [],
   "source": [
    "batch = next(iter(test_loader))"
   ]
  },
  {
   "cell_type": "code",
   "execution_count": null,
   "metadata": {
    "metadata": {}
   },
   "outputs": [],
   "source": [
    "batch"
   ]
  },
  {
   "cell_type": "markdown",
   "metadata": {},
   "source": [
    "As we can see here, a batch is composed of following elements (some of the elements could not be used by the model):\n",
    "\n",
    "- ``x`` : is the set of features at the nodes of the graph (`prod_p` and `load_p` in this specific case);\n",
    "- ``edge_index`` : is the pytorch geometric way to create the connections among nodes (works as an adjacency matrix).;\n",
    "- ``edge_attributes`` : the attributes on each edge connecting a pair of nodes (admittance values);\n",
    "- ``y`` : corresponds to the targets at each node of the graph which should be predicted by the model (in this case the target is only the voltage angles from which the active powers could be inferred);\n",
    "- ``edge_index_no_diag`` : is same as edge_index by removing the diagonal elements.\n",
    "- ``edge_attr_no_diag`` : is same as edge_attr by removing the diagonal elements.\n",
    "- ``ybus`` : is the admittance matrix in its classic form.\n",
    "- ``batch`` and ``ptr`` are pytorch geometric specific parameters. "
   ]
  },
  {
   "cell_type": "markdown",
   "metadata": {},
   "source": [
    "## Create a physics informed GNN\n",
    "This GNN is not trainable. Each layer can be seen as one step optimization of power flow equation."
   ]
  },
  {
   "cell_type": "code",
   "execution_count": null,
   "metadata": {
    "metadata": {}
   },
   "outputs": [],
   "source": [
    "import torch\n",
    "from utils.graph_utils_generic import GPGmodel_without_NN\n",
    "\n",
    "device = torch.device(\"cpu\") # select \"cuda:0\" if you have a GPU\n",
    "gpg_model_wo_nn = GPGmodel_without_NN(ref_node=0, num_gnn_layers=100, device=device)\n",
    "gpg_model_wo_nn.to(device)"
   ]
  },
  {
   "cell_type": "markdown",
   "metadata": {},
   "source": [
    "As can be seen, this architecture is composed of different layers:\n",
    "- `GPGinput_without_NN`: The input layer of Physics informed GNN\n",
    "- `LocalConservationLayer`:  The layer that computes the local conservation error after each layer.\n",
    "- `GPGintermediate`: The intermediate layer of GNN that updates the theta values with respect ot \n",
    "\n",
    "#### Input layer\n",
    "It performs the computation through the local conservation equation at a node i\n",
    "$P^i_{prod} - P^i_{load} = \\sum_{j \\in \\{i, N(i)\\}} \\theta_j \\times y_{ij}$\n",
    "where:\n",
    "- $P^i_{prod}$: Active power generated at the node $i$\n",
    "- $P^i_{load}$: Active power consumed at the node $i$\n",
    "- $N(i)$ : the neighborhood at node $i$\n",
    "- $\\theta_j$: the voltage angle at node $j$\n",
    "- $y_{ij}$: the admittance matrix element (power line) between node i and j \n",
    "    \n",
    "From this equation, we can update the theta values as follows:\n",
    "$\\hat{\\theta}_i = \\frac{P^i_{prod} - P^i_{load} - \\sum_{j \\in N(i), i\\neq j} \\theta_j \\times y_{ij}}{y_{ii}}$\n",
    "\n",
    "The $\\theta_j$ for this first layer is initialized with zeros.\n",
    "\n",
    "#### Intermediate layer\n",
    "Once the $\\hat{\\theta}_i$ is estimated for all the nodes in power grid, we pass it as an argument to the intermediate layer. This layer performs exactly the same operation as input layer by replacing the $\\theta$ with current estimations in previous layer.\n",
    "\n",
    "#### Local conservation layer\n",
    "It computes the local conservation error after each layer in the Physics Informed GNN to trace the error as:\n",
    "\n",
    "$Error = P^i_{prod} - P^i_{load} - \\sum_{j \\in \\{i, N(i)\\}} \\theta_j \\times y_{ij}$\n"
   ]
  },
  {
   "cell_type": "code",
   "execution_count": null,
   "metadata": {
    "metadata": {}
   },
   "outputs": [],
   "source": [
    "import numpy as np\n",
    "\n",
    "predictions = []\n",
    "observations = []\n",
    "error_per_batch = []\n",
    "for batch in test_loader:\n",
    "    out, errors = gpg_model_wo_nn(batch)\n",
    "    predictions.append(out)\n",
    "    observations.append(batch.y)\n",
    "    error_per_batch.append([float(error.detach().cpu().numpy()) for error in errors])\n",
    "observations = torch.vstack(observations)\n",
    "predictions = torch.vstack(predictions)\n",
    "errors = np.vstack(error_per_batch)\n",
    "errors = errors.mean(axis=0)"
   ]
  },
  {
   "cell_type": "markdown",
   "metadata": {},
   "source": [
    "Visualize the error through the iterations (graph layers)"
   ]
  },
  {
   "cell_type": "code",
   "execution_count": null,
   "metadata": {
    "metadata": {}
   },
   "outputs": [],
   "source": [
    "plt.figure()\n",
    "plt.plot(errors)\n",
    "plt.xlabel(\"# GNN layers (iterations)\")\n",
    "plt.ylabel(\"Local Conservation Error\")"
   ]
  },
  {
   "cell_type": "markdown",
   "metadata": {},
   "source": [
    "Convert the angles from Radian to Degree ($\\times \\frac{180}{\\pi}$)"
   ]
  },
  {
   "cell_type": "code",
   "execution_count": null,
   "metadata": {
    "metadata": {}
   },
   "outputs": [],
   "source": [
    "import math\n",
    "predictions = predictions * (180/math.pi)"
   ]
  },
  {
   "cell_type": "code",
   "execution_count": null,
   "metadata": {},
   "outputs": [],
   "source": [
    "np.concatenate((predictions, observations), axis=1)"
   ]
  },
  {
   "cell_type": "markdown",
   "metadata": {},
   "source": [
    "Compute the MAPE metric on voltage angles"
   ]
  },
  {
   "cell_type": "code",
   "execution_count": null,
   "metadata": {
    "metadata": {}
   },
   "outputs": [],
   "source": [
    "MAPE = abs((observations - (predictions)) / (observations + 1e-10)).mean()\n",
    "print(\"MAPE: \", MAPE)"
   ]
  },
  {
   "cell_type": "markdown",
   "metadata": {},
   "source": [
    "Compute MAPE10 on voltage angles (90% highest quantile of the distribution)."
   ]
  },
  {
   "cell_type": "code",
   "execution_count": null,
   "metadata": {
    "metadata": {}
   },
   "outputs": [],
   "source": [
    "from lips.metrics.ml_metrics.external_metrics import mape_quantile\n",
    "\n",
    "MAPE_10 = mape_quantile(y_true=observations.detach().cpu(), y_pred=predictions.detach().cpu(), quantile=0.9)\n",
    "print(\"MAPE 10: \", MAPE_10)"
   ]
  },
  {
   "cell_type": "markdown",
   "metadata": {},
   "source": [
    "Once the voltage angles are computed using the model, we can transform them to power flows (active powers) using the provided function `get_all_active_powers`.\n",
    "\n",
    "<span style=\"color:red\">In this notebook, we are not interested in other power flow variables such as voltages and currents. However, for the competition purpose, these additional variables should also be predicted by the solutions.</span>"
   ]
  },
  {
   "cell_type": "code",
   "execution_count": null,
   "metadata": {
    "metadata": {}
   },
   "outputs": [],
   "source": [
    "import warnings\n",
    "from utils.graph_utils_generic import get_obs, get_all_active_powers\n",
    "\n",
    "warnings.filterwarnings(\"ignore\")\n",
    "env, obs = get_obs(benchmark)\n",
    "p_ors_pred, p_exs_pred = get_all_active_powers(benchmark._test_dataset.data,\n",
    "                                               obs,\n",
    "                                               theta_bus=predictions.view(-1,14).cpu())"
   ]
  },
  {
   "cell_type": "code",
   "execution_count": null,
   "metadata": {
    "metadata": {}
   },
   "outputs": [],
   "source": [
    "# put the predictions in a dictionary in order to that the LIPS framework could read them for evaluation\n",
    "my_predictions = {}\n",
    "my_predictions[\"p_or\"] = p_ors_pred\n",
    "my_predictions[\"p_ex\"] = p_exs_pred"
   ]
  },
  {
   "cell_type": "code",
   "execution_count": null,
   "metadata": {
    "metadata": {}
   },
   "outputs": [],
   "source": [
    "MAPE10_Power = mape_quantile(y_true=benchmark._test_dataset.data[\"p_or\"], \n",
    "                             y_pred=my_predictions[\"p_or\"], \n",
    "                             quantile=0.9)\n",
    "print(\"MAPE10 on Active Powers: \", MAPE10_Power)"
   ]
  },
  {
   "cell_type": "markdown",
   "metadata": {},
   "source": [
    "### Physics law verification \n",
    "\n",
    "Once the power flow is computed from the predicted voltage angles, we can verify the local conservation law using the provided function in LIPS framework. This law is one among 8 physics laws that should be respected in this challenge. "
   ]
  },
  {
   "cell_type": "code",
   "execution_count": null,
   "metadata": {
    "metadata": {}
   },
   "outputs": [],
   "source": [
    "from lips.metrics.power_grid.local_conservation import local_conservation\n",
    "\n",
    "LC_tolerance = 1e-2\n",
    "\n",
    "verification = local_conservation(predictions=my_predictions,\n",
    "                                  observations=benchmark._test_dataset.data,\n",
    "                                  tolerance=LC_tolerance,\n",
    "                                  env=env,\n",
    "                                  result_level=2)\n",
    "print(f\"Violation percentage: {verification['violation_percentage']:.2f} %\")"
   ]
  },
  {
   "cell_type": "markdown",
   "metadata": {},
   "source": [
    "## Using IDF environment"
   ]
  },
  {
   "cell_type": "markdown",
   "metadata": {},
   "source": [
    "### Generate some data using DC approximation\n",
    "In this configuration and for illustration purpose, we consider DC approximation for data generation and we use a grid configuration with only power line disconnection and without any topology reconfiguration. It should be noted that the dataset considered for the competition is generated using AC solver (complex admittance matrix values) and includes topology changes in the grid. \n",
    "\n",
    "The topology reconfiguration consists in changing how the nodes of the network are interconnected through two bus bars connected to each node."
   ]
  },
  {
   "cell_type": "code",
   "execution_count": null,
   "metadata": {},
   "outputs": [],
   "source": [
    "# Use some required pathes\n",
    "import pathlib\n",
    "DATA_PATH = pathlib.Path().resolve() / \"input_data_local\"\n",
    "BENCH_CONFIG_PATH = pathlib.Path().resolve() / \"configs\" / \"benchmarks\" / \"lips_idf_2023.ini\""
   ]
  },
  {
   "cell_type": "code",
   "execution_count": null,
   "metadata": {},
   "outputs": [],
   "source": [
    "from lips.benchmark.powergridBenchmark import PowerGridBenchmark\n",
    "\n",
    "benchmark_idf = PowerGridBenchmark(benchmark_path=DATA_PATH,\n",
    "                                   benchmark_name=\"Benchmark_DC\",\n",
    "                                   load_data_set=False, # we set False, as data are not yet generated\n",
    "                                   config_path=BENCH_CONFIG_PATH,\n",
    "                                   log_path=None)"
   ]
  },
  {
   "cell_type": "markdown",
   "metadata": {},
   "source": [
    "Here, we generate 2000 points per dataset for IDF environment. We select following parameters for generation:\n",
    "\n",
    "- `do_store_physics=True`: Indicate that we want save the physics related variables (`YBus`, `SBus`, etc.)\n",
    "- `store_as_sparse = True`: Allows to store huge `YBus` Matrix in sparse mode.\n",
    "- `is_dc=True`: Indicates that we want generate some data using DC approximation. It is selected here only for illustration purpose and because the electricity equations are easier to compute in the case of DC approximation, in comparison to AC. See the first part of this notebook for more explaination concerning the equations."
   ]
  },
  {
   "cell_type": "code",
   "execution_count": null,
   "metadata": {},
   "outputs": [],
   "source": [
    "benchmark_idf.generate(nb_sample_train=int(2e3),\n",
    "                       nb_sample_val=int(2e3),\n",
    "                       nb_sample_test=int(2e3),\n",
    "                       nb_sample_test_ood_topo=int(2e3),\n",
    "                       store_as_sparse=True, # NOTE: Specific to envs with 118 or more nodes\n",
    "                       do_store_physics=True,\n",
    "                       is_dc=True\n",
    "                      )"
   ]
  },
  {
   "cell_type": "markdown",
   "metadata": {},
   "source": [
    "If the data is already generated, load the generated dataset by setting `load_data_set=True`."
   ]
  },
  {
   "cell_type": "code",
   "execution_count": null,
   "metadata": {},
   "outputs": [],
   "source": [
    "benchmark_idf = PowerGridBenchmark(benchmark_path=DATA_PATH,\n",
    "                                   benchmark_name=\"Benchmark_DC\",\n",
    "                                   load_data_set=True,\n",
    "                                   config_path=BENCH_CONFIG_PATH,\n",
    "                                   load_ybus_as_sparse=True,\n",
    "                                   log_path=None)"
   ]
  },
  {
   "cell_type": "code",
   "execution_count": null,
   "metadata": {},
   "outputs": [],
   "source": [
    "print(benchmark_idf.train_dataset.size)"
   ]
  },
  {
   "cell_type": "markdown",
   "metadata": {},
   "source": [
    "### Prepare the dataset\n",
    "\n",
    "Prepare the dataset and reorganize them for Graph Neural Networks. In this configuration, the features are active powers for productions and loads and the target is the voltage angle at each node."
   ]
  },
  {
   "cell_type": "code",
   "execution_count": null,
   "metadata": {},
   "outputs": [],
   "source": [
    "device = torch.device(\"cpu\") # or \"cuda:0\" if you have any GPU\n",
    "train_loader, val_loader, test_loader, test_ood_loader = prepare_dataset(benchmark=benchmark_idf, batch_size=512, device=device)"
   ]
  },
  {
   "cell_type": "code",
   "execution_count": null,
   "metadata": {},
   "outputs": [],
   "source": [
    "batch = next(iter(train_loader))"
   ]
  },
  {
   "cell_type": "code",
   "execution_count": null,
   "metadata": {},
   "outputs": [],
   "source": [
    "batch"
   ]
  },
  {
   "cell_type": "markdown",
   "metadata": {},
   "source": [
    "### Model using Graph Neural Networks\n",
    "\n",
    "Import the Graph Neural Network which should be used to model the data. In this configuration, our GNN is only based on resolution of power grid equations and no learnable parameter is considered. Feel free to add a learning component, for example to initialize the first theta values at the input layer."
   ]
  },
  {
   "cell_type": "code",
   "execution_count": null,
   "metadata": {},
   "outputs": [],
   "source": [
    "import torch\n",
    "from utils.graph_utils_generic import GPGmodel_without_NN\n",
    "\n",
    "device = torch.device(\"cpu\") # select \"cuda:0\" if you have a GPU\n",
    "gpg_model_wo_nn = GPGmodel_without_NN(ref_node=68, num_gnn_layers=2000, device=device)\n",
    "gpg_model_wo_nn.to(device)"
   ]
  },
  {
   "cell_type": "markdown",
   "metadata": {},
   "source": [
    "Iterate over the layers of the GNN (Optimization)."
   ]
  },
  {
   "cell_type": "code",
   "execution_count": null,
   "metadata": {},
   "outputs": [],
   "source": [
    "import numpy as np\n",
    "\n",
    "predictions = []\n",
    "observations = []\n",
    "error_per_batch = []\n",
    "for batch in test_loader:\n",
    "    out, errors = gpg_model_wo_nn(batch)\n",
    "    predictions.append(out)\n",
    "    observations.append(batch.y)\n",
    "    error_per_batch.append([float(error.detach().cpu().numpy()) for error in errors])\n",
    "observations = torch.vstack(observations)\n",
    "predictions = torch.vstack(predictions)\n",
    "errors = np.vstack(error_per_batch)\n",
    "errors = errors.mean(axis=0)"
   ]
  },
  {
   "cell_type": "code",
   "execution_count": null,
   "metadata": {},
   "outputs": [],
   "source": [
    "plt.figure()\n",
    "plt.plot(errors)\n",
    "plt.xlabel(\"# GNN layers (iterations)\")\n",
    "plt.ylabel(\"Local Conservation Error\")"
   ]
  },
  {
   "cell_type": "markdown",
   "metadata": {},
   "source": [
    "Convert the predictions"
   ]
  },
  {
   "cell_type": "code",
   "execution_count": null,
   "metadata": {},
   "outputs": [],
   "source": [
    "import math\n",
    "predictions = predictions * (180/math.pi)"
   ]
  },
  {
   "cell_type": "markdown",
   "metadata": {},
   "source": [
    "Evaluate the voltage angles"
   ]
  },
  {
   "cell_type": "code",
   "execution_count": null,
   "metadata": {},
   "outputs": [],
   "source": [
    "MAPE = abs((observations - (predictions*100)) / (observations + 1e-10)).mean()\n",
    "print(\"MAPE: \", MAPE)"
   ]
  },
  {
   "cell_type": "code",
   "execution_count": null,
   "metadata": {},
   "outputs": [],
   "source": [
    "from lips.metrics.ml_metrics.external_metrics import mape_quantile\n",
    "\n",
    "MAPE_10 = mape_quantile(y_true=observations.detach().cpu(), y_pred=predictions.detach().cpu()*100, quantile=0.9)\n",
    "print(\"MAPE 10: \", MAPE_10)"
   ]
  },
  {
   "cell_type": "markdown",
   "metadata": {},
   "source": [
    "Convert the voltage angles at substations (graph nodes) to active powers at power lines."
   ]
  },
  {
   "cell_type": "code",
   "execution_count": null,
   "metadata": {},
   "outputs": [],
   "source": [
    "import warnings\n",
    "from utils.graph_utils_generic import get_obs, get_all_active_powers\n",
    "\n",
    "warnings.filterwarnings(\"ignore\")\n",
    "env, obs = get_obs(benchmark_idf)\n",
    "p_ors_pred, p_exs_pred = get_all_active_powers(benchmark_idf._test_dataset.data,\n",
    "                                               obs,\n",
    "                                               theta_bus=predictions.view(-1,obs.n_sub).cpu())"
   ]
  },
  {
   "cell_type": "code",
   "execution_count": null,
   "metadata": {},
   "outputs": [],
   "source": [
    "# put the predictions in a dictionary in order to that the LIPS framework could read them for evaluation\n",
    "my_predictions = {}\n",
    "my_predictions[\"p_or\"] = p_ors_pred\n",
    "my_predictions[\"p_ex\"] = p_exs_pred"
   ]
  },
  {
   "cell_type": "markdown",
   "metadata": {},
   "source": [
    "Evaluate the accuracy of converted active powers"
   ]
  },
  {
   "cell_type": "code",
   "execution_count": null,
   "metadata": {},
   "outputs": [],
   "source": [
    "MAPE10_Power = mape_quantile(y_true=benchmark_idf._test_dataset.data[\"p_or\"], \n",
    "                             y_pred=my_predictions[\"p_or\"],\n",
    "                             quantile=0.9)\n",
    "print(\"MAPE10 on Active Powers: \", MAPE10_Power)"
   ]
  },
  {
   "cell_type": "markdown",
   "metadata": {},
   "source": [
    "Evaluate the physics compliance considering the local conservation criteria"
   ]
  },
  {
   "cell_type": "code",
   "execution_count": null,
   "metadata": {},
   "outputs": [],
   "source": [
    "from lips.metrics.power_grid.local_conservation import local_conservation\n",
    "\n",
    "LC_tolerance = 1e-2\n",
    "\n",
    "verification = local_conservation(predictions=my_predictions,\n",
    "                                  observations=benchmark_idf._test_dataset.data,\n",
    "                                  tolerance=LC_tolerance,\n",
    "                                  env=env,\n",
    "                                  result_level=2)\n",
    "print(f\"Violation percentage: {verification['violation_percentage']:.2f} %\")"
   ]
  }
 ],
 "metadata": {
  "kernelspec": {
   "display_name": "lips",
   "language": "python",
   "name": "python3"
  },
  "language_info": {
   "codemirror_mode": {
    "name": "ipython",
    "version": 3
   },
   "file_extension": ".py",
   "mimetype": "text/x-python",
   "name": "python",
   "nbconvert_exporter": "python",
   "pygments_lexer": "ipython3",
   "version": "3.10.9"
  }
 },
 "nbformat": 4,
 "nbformat_minor": 2
}
